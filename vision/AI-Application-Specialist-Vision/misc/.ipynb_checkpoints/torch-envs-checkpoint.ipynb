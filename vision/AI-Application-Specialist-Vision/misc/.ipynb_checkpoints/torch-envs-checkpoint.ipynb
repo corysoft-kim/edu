{
 "cells": [
  {
   "cell_type": "markdown",
   "id": "1835e9bd",
   "metadata": {},
   "source": [
    "## Versions check and simple test in venv"
   ]
  },
  {
   "cell_type": "code",
   "execution_count": 1,
   "id": "3c1341e4",
   "metadata": {},
   "outputs": [],
   "source": [
    "import torch\n",
    "import torchvision\n",
    "#import torchaudio\n",
    "import transformers"
   ]
  },
  {
   "cell_type": "code",
   "execution_count": 8,
   "id": "0189e94d",
   "metadata": {},
   "outputs": [
    {
     "name": "stdout",
     "output_type": "stream",
     "text": [
      "torch version:  2.5.1\n",
      "cuda availability:  True\n",
      "cuda version:  12.4\n",
      "torchvision version:  0.20.1\n",
      "cudnn version:  90100\n",
      "transformer version:  4.45.2\n"
     ]
    }
   ],
   "source": [
    "print('torch version: ', torch.__version__)\n",
    "print('cuda availability: ', torch.cuda.is_available())\n",
    "if torch.cuda.is_available():\n",
    "    print ('cuda version: ', torch.version.cuda)\n",
    "print('torchvision version: ', torchvision.__version__)\n",
    "print('cudnn version: ', torch.backends.cudnn.version())\n",
    "#print('torchaudio version: ', torchaudio.__version__)\n",
    "print('transformer version: ', transformers.__version__)"
   ]
  },
  {
   "cell_type": "code",
   "execution_count": 1,
   "id": "d304200a-e83a-462e-bb40-ccebeb6e7b73",
   "metadata": {},
   "outputs": [
    {
     "data": {
      "text/plain": [
       "['C:\\\\Users\\\\swsuser-i5\\\\.conda\\\\envs\\\\torch2b\\\\python312.zip',\n",
       " 'C:\\\\Users\\\\swsuser-i5\\\\.conda\\\\envs\\\\torch2b\\\\DLLs',\n",
       " 'C:\\\\Users\\\\swsuser-i5\\\\.conda\\\\envs\\\\torch2b\\\\Lib',\n",
       " 'C:\\\\Users\\\\swsuser-i5\\\\.conda\\\\envs\\\\torch2b',\n",
       " '',\n",
       " 'C:\\\\Users\\\\swsuser-i5\\\\.conda\\\\envs\\\\torch2b\\\\Lib\\\\site-packages',\n",
       " 'C:\\\\Users\\\\swsuser-i5\\\\.conda\\\\envs\\\\torch2b\\\\Lib\\\\site-packages\\\\win32',\n",
       " 'C:\\\\Users\\\\swsuser-i5\\\\.conda\\\\envs\\\\torch2b\\\\Lib\\\\site-packages\\\\win32\\\\lib',\n",
       " 'C:\\\\Users\\\\swsuser-i5\\\\.conda\\\\envs\\\\torch2b\\\\Lib\\\\site-packages\\\\Pythonwin']"
      ]
     },
     "execution_count": 1,
     "metadata": {},
     "output_type": "execute_result"
    }
   ],
   "source": [
    "import sys\n",
    "import os\n",
    "sys.path"
   ]
  },
  {
   "cell_type": "markdown",
   "id": "e2140e37",
   "metadata": {},
   "source": [
    "## Proxy and ssl setting for ML platform-suwon region \n",
    "\n",
    "### For example, to download huggingface models"
   ]
  },
  {
   "cell_type": "code",
   "execution_count": null,
   "id": "1f678ac7",
   "metadata": {},
   "outputs": [],
   "source": [
    "# in order to download models from huggingface, it is necessary to set the following proxy and ssl \n",
    "import ssl\n",
    "ssl._create_default_https_context = ssl._create_unverified_context\n",
    "import os\n",
    "os.environ['REQUESTS_CA_BUNDLE'] = '/etc/ssl/certs/ca-certificates.crt'\n",
    "os.environ['HTTP_PROXY'] ='http://75.17.107.42:8080'\n",
    "os.environ['HTTPS_PROXY'] ='http://75.17.107.42:8080'"
   ]
  },
  {
   "cell_type": "code",
   "execution_count": null,
   "id": "538b7653",
   "metadata": {},
   "outputs": [],
   "source": [
    "from PIL import Image\n",
    "import requests"
   ]
  },
  {
   "cell_type": "code",
   "execution_count": null,
   "id": "9ea1b737",
   "metadata": {},
   "outputs": [],
   "source": [
    "url = \"http://images.cocodataset.org/val2017/000000039769.jpg\"\n",
    "image = Image.open(requests.get(url, stream=True).raw)"
   ]
  },
  {
   "cell_type": "code",
   "execution_count": null,
   "id": "240ea812",
   "metadata": {},
   "outputs": [],
   "source": [
    "image"
   ]
  },
  {
   "cell_type": "code",
   "execution_count": null,
   "id": "3bad395f",
   "metadata": {},
   "outputs": [],
   "source": [
    "image.show()"
   ]
  },
  {
   "cell_type": "code",
   "execution_count": null,
   "id": "dfec1c6a",
   "metadata": {},
   "outputs": [],
   "source": [
    "display(image)"
   ]
  },
  {
   "cell_type": "code",
   "execution_count": null,
   "id": "7590edd1",
   "metadata": {},
   "outputs": [],
   "source": [
    "#ipython, matplotlib"
   ]
  },
  {
   "cell_type": "code",
   "execution_count": 3,
   "id": "73e6053d-4c1c-47c9-aa2c-34db98f9d68a",
   "metadata": {},
   "outputs": [
    {
     "name": "stdout",
     "output_type": "stream",
     "text": [
      "IPython version: 8.31.0\n",
      "matplotlib version: 3.10.0\n",
      "jupyter notebook version: 7.3.2\n",
      "jupyter lab version: 4.3.4\n"
     ]
    }
   ],
   "source": [
    "import IPython\n",
    "import matplotlib\n",
    "import notebook\n",
    "import jupyterlab\n",
    "\n",
    "print(f\"IPython version: {IPython.__version__}\")\n",
    "print(f\"matplotlib version: {matplotlib.__version__}\")\n",
    "print(f\"jupyter notebook version: {notebook.__version__}\")\n",
    "print(f\"jupyter lab version: {jupyterlab.__version__}\")"
   ]
  },
  {
   "cell_type": "code",
   "execution_count": 4,
   "id": "b40df991-97f1-4814-bc1c-9ec010eac11b",
   "metadata": {},
   "outputs": [
    {
     "name": "stdout",
     "output_type": "stream",
     "text": [
      "Selected Jupyter core packages...\n",
      "IPython          : 8.18.1\n",
      "ipykernel        : 6.29.5\n",
      "ipywidgets       : 8.1.6\n",
      "jupyter_client   : 8.6.3\n",
      "jupyter_core     : 5.7.2\n",
      "jupyter_server   : 2.15.0\n",
      "jupyterlab       : 4.4.1\n",
      "nbclient         : 0.10.2\n",
      "nbconvert        : 7.16.6\n",
      "nbformat         : 5.10.4\n",
      "notebook         : 7.4.1\n",
      "qtconsole        : not installed\n",
      "traitlets        : 5.14.3\n"
     ]
    }
   ],
   "source": [
    "!jupyter --version"
   ]
  },
  {
   "cell_type": "code",
   "execution_count": null,
   "id": "03e1ffef-2b45-4f79-97f5-ab0b997936a0",
   "metadata": {},
   "outputs": [],
   "source": []
  }
 ],
 "metadata": {
  "kernelspec": {
   "display_name": "torch2b",
   "language": "python",
   "name": "torch2b"
  },
  "language_info": {
   "codemirror_mode": {
    "name": "ipython",
    "version": 3
   },
   "file_extension": ".py",
   "mimetype": "text/x-python",
   "name": "python",
   "nbconvert_exporter": "python",
   "pygments_lexer": "ipython3",
   "version": "3.12.8"
  }
 },
 "nbformat": 4,
 "nbformat_minor": 5
}
