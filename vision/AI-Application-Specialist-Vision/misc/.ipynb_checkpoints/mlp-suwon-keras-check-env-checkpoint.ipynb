{
 "cells": [
  {
   "cell_type": "markdown",
   "id": "5e9bf3f0",
   "metadata": {},
   "source": [
    "## Test suwon ML Platform \n",
    "### - check version: tf, keras, cuda, cudnn"
   ]
  },
  {
   "cell_type": "code",
   "execution_count": 1,
   "id": "2f630eea",
   "metadata": {},
   "outputs": [
    {
     "ename": "ModuleNotFoundError",
     "evalue": "No module named 'tensorflow'",
     "output_type": "error",
     "traceback": [
      "\u001b[1;31m---------------------------------------------------------------------------\u001b[0m",
      "\u001b[1;31mModuleNotFoundError\u001b[0m                       Traceback (most recent call last)",
      "Cell \u001b[1;32mIn[1], line 1\u001b[0m\n\u001b[1;32m----> 1\u001b[0m \u001b[38;5;28;01mimport\u001b[39;00m\u001b[38;5;250m \u001b[39m\u001b[38;5;21;01mtensorflow\u001b[39;00m\u001b[38;5;250m \u001b[39m\u001b[38;5;28;01mas\u001b[39;00m\u001b[38;5;250m \u001b[39m\u001b[38;5;21;01mtf\u001b[39;00m\n\u001b[0;32m      2\u001b[0m \u001b[38;5;28;01mfrom\u001b[39;00m\u001b[38;5;250m \u001b[39m\u001b[38;5;21;01mtensorflow\u001b[39;00m\u001b[38;5;250m \u001b[39m\u001b[38;5;28;01mimport\u001b[39;00m keras\n",
      "\u001b[1;31mModuleNotFoundError\u001b[0m: No module named 'tensorflow'"
     ]
    }
   ],
   "source": [
    "import tensorflow as tf\n",
    "from tensorflow import keras"
   ]
  },
  {
   "cell_type": "code",
   "execution_count": 2,
   "id": "753366c7",
   "metadata": {},
   "outputs": [
    {
     "name": "stdout",
     "output_type": "stream",
     "text": [
      "tensorflow version = 2.9.1\n",
      "keras version = 2.9.0\n",
      "[tf] available devices = [PhysicalDevice(name='/physical_device:CPU:0', device_type='CPU'), PhysicalDevice(name='/physical_device:GPU:0', device_type='GPU')]\n"
     ]
    }
   ],
   "source": [
    "print(f\"tensorflow version = {tf.__version__}\")\n",
    "print(f\"keras version = {keras.__version__}\")\n",
    "print(f\"[tf] available devices = {tf.config.get_visible_devices()}\")"
   ]
  },
  {
   "cell_type": "code",
   "execution_count": 3,
   "id": "64d320b6",
   "metadata": {},
   "outputs": [
    {
     "data": {
      "text/plain": [
       "['/gpfs-volume/Workspace/AI-Application-Specialist-Vision/misc',\n",
       " '/usr/local/lib/python38.zip',\n",
       " '/usr/local/lib/python3.8',\n",
       " '/usr/local/lib/python3.8/lib-dynload',\n",
       " '',\n",
       " '/home/user/.local/lib/python3.8/site-packages',\n",
       " '/usr/local/lib/python3.8/site-packages']"
      ]
     },
     "execution_count": 3,
     "metadata": {},
     "output_type": "execute_result"
    }
   ],
   "source": [
    "import sys\n",
    "import os\n",
    "sys.path"
   ]
  },
  {
   "cell_type": "code",
   "execution_count": 4,
   "id": "d0570778",
   "metadata": {},
   "outputs": [
    {
     "name": "stdout",
     "output_type": "stream",
     "text": [
      "cuda version = 11.2\n",
      "cudnn version = 8\n"
     ]
    }
   ],
   "source": [
    "sys_detail = tf.sysconfig.get_build_info()\n",
    "print(f'cuda version = {sys_detail[\"cuda_version\"]}')\n",
    "print(f'cudnn version = {sys_detail[\"cudnn_version\"]}')"
   ]
  },
  {
   "cell_type": "code",
   "execution_count": 5,
   "id": "48e6fe02",
   "metadata": {},
   "outputs": [
    {
     "data": {
      "text/plain": [
       "OrderedDict([('cpu_compiler', '/dt9/usr/bin/gcc'),\n",
       "             ('cuda_compute_capabilities',\n",
       "              ['sm_35', 'sm_50', 'sm_60', 'sm_70', 'sm_75', 'compute_80']),\n",
       "             ('cuda_version', '11.2'),\n",
       "             ('cudnn_version', '8'),\n",
       "             ('is_cuda_build', True),\n",
       "             ('is_rocm_build', False),\n",
       "             ('is_tensorrt_build', True)])"
      ]
     },
     "execution_count": 5,
     "metadata": {},
     "output_type": "execute_result"
    }
   ],
   "source": [
    "sys_detail"
   ]
  },
  {
   "cell_type": "code",
   "execution_count": 6,
   "id": "49877a8f",
   "metadata": {},
   "outputs": [
    {
     "name": "stdout",
     "output_type": "stream",
     "text": [
      "Thu Jan  9 18:48:29 2025       \r\n",
      "+-----------------------------------------------------------------------------+\r\n",
      "| NVIDIA-SMI 418.87.01    Driver Version: 418.87.01    CUDA Version: 11.2     |\r\n",
      "|-------------------------------+----------------------+----------------------+\r\n",
      "| GPU  Name        Persistence-M| Bus-Id        Disp.A | Volatile Uncorr. ECC |\r\n",
      "| Fan  Temp  Perf  Pwr:Usage/Cap|         Memory-Usage | GPU-Util  Compute M. |\r\n",
      "|===============================+======================+======================|\r\n",
      "|   0  Tesla P40           Off  | 00000000:0E:00.0 Off |                  Off |\r\n",
      "| N/A   36C    P8    10W / 250W |     10MiB / 24451MiB |      0%      Default |\r\n",
      "+-------------------------------+----------------------+----------------------+\r\n",
      "                                                                               \r\n",
      "+-----------------------------------------------------------------------------+\r\n",
      "| Processes:                                                       GPU Memory |\r\n",
      "|  GPU       PID   Type   Process name                             Usage      |\r\n",
      "|=============================================================================|\r\n",
      "|  No running processes found                                                 |\r\n",
      "+-----------------------------------------------------------------------------+\r\n"
     ]
    }
   ],
   "source": [
    "!nvidia-smi"
   ]
  },
  {
   "cell_type": "code",
   "execution_count": null,
   "id": "5c1617f3-f283-43cd-bb5f-23e990b890e0",
   "metadata": {},
   "outputs": [],
   "source": [
    "import IPython\n",
    "import matplotlib\n",
    "import notebook\n",
    "import \n",
    "print(f\"IPython version: {IPython.__version__}\")\n",
    "print(f\"matplotlib version: {matplotlib.__version__}\")\n",
    "print(f\"jupyter notebook version: {notebook.__version__}\")"
   ]
  },
  {
   "cell_type": "code",
   "execution_count": null,
   "id": "dac72861-8f8b-4822-a13d-5e756b09999c",
   "metadata": {},
   "outputs": [],
   "source": [
    "!jupyter --version"
   ]
  },
  {
   "cell_type": "code",
   "execution_count": null,
   "id": "a2739256",
   "metadata": {},
   "outputs": [],
   "source": [
    "# jupyter \n",
    "!jupyter --paths"
   ]
  },
  {
   "cell_type": "markdown",
   "id": "25795dce",
   "metadata": {},
   "source": [
    "## copy from suwon login server(75.17.101.12) to PC\n",
    "$ scp user-id@75.17.101.12:/vol1/user/user-id/sample.txt .\n",
    "\n",
    "ex) Windows shell prompt에서 폴더 copy\n",
    "\n",
    "D:\\\\> scp -r gyutae.park@75.17.101.12:/vol1/user/gyutae.park/Workspace/AI-Application-Specialist-Vision .\n",
    "\n",
    "(corp id/passwd)\n",
    "\n",
    "- Container 내부 폴더 경로\n",
    " * /vol1/user/<user-id>/Workspace ... (Job container image에서) /group-volume/Workspace\n",
    " * /vol1/dbstore/sr_edu ... (Job container image에서) /group-volume/sr_edu"
   ]
  },
  {
   "cell_type": "markdown",
   "id": "50948e5d",
   "metadata": {},
   "source": [
    "# to compare performence between gpu and cpu\n",
    "```python\n",
    "from keras import backend as K\n",
    "def some_model():\n",
    "    model = keras.Sequenctial() \n",
    "    model.add(Dense(512, input_dim=32*32, activation='relu'))\n",
    "    ## ...\n",
    "    model.add(Dense(10, activation='softmax'))\n",
    "    return model;\n",
    "\n",
    "with K.tf.device('/gpu:0'):\n",
    "    model = some_model()\n",
    "    model.compile(loss='categorical_crossentropy',\n",
    "                  optimizer='adam',\n",
    "                  metrics=['accuracy'])\n",
    "    model.fit(X_train, y_train, batch_size=128, epochs=10, verbose=1) \n",
    "with K.tf.device('/cpu:0'):\n",
    "    model = some_model()\n",
    "    model.compile(loss='categorical_crossentropy',\n",
    "                  optimizer='adam',\n",
    "                  metrics=['accuracy'])\n",
    "    model.fit(X_train, y_train, batch_size=128, epochs=10, verbose=1) \n",
    "```"
   ]
  },
  {
   "cell_type": "code",
   "execution_count": null,
   "id": "8594d108",
   "metadata": {},
   "outputs": [],
   "source": []
  }
 ],
 "metadata": {
  "kernelspec": {
   "display_name": "Python 3 (ipykernel)",
   "language": "python",
   "name": "python3"
  },
  "language_info": {
   "codemirror_mode": {
    "name": "ipython",
    "version": 3
   },
   "file_extension": ".py",
   "mimetype": "text/x-python",
   "name": "python",
   "nbconvert_exporter": "python",
   "pygments_lexer": "ipython3",
   "version": "3.12.8"
  }
 },
 "nbformat": 4,
 "nbformat_minor": 5
}
