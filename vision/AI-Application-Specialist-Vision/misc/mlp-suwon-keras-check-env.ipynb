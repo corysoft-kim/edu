{
 "cells": [
  {
   "cell_type": "markdown",
   "id": "5e9bf3f0",
   "metadata": {},
   "source": [
    "## Test suwon ML Platform \n",
    "### - check version: tf, keras, cuda, cudnn"
   ]
  },
  {
   "cell_type": "code",
   "execution_count": 1,
   "id": "2f630eea",
   "metadata": {},
   "outputs": [],
   "source": [
    "import tensorflow as tf\n",
    "from tensorflow import keras"
   ]
  },
  {
   "cell_type": "code",
   "execution_count": 2,
   "id": "753366c7",
   "metadata": {},
   "outputs": [
    {
     "name": "stdout",
     "output_type": "stream",
     "text": [
      "tensorflow version = 2.9.1\n",
      "keras version = 2.9.0\n",
      "[tf] available devices = [PhysicalDevice(name='/physical_device:CPU:0', device_type='CPU'), PhysicalDevice(name='/physical_device:GPU:0', device_type='GPU')]\n"
     ]
    }
   ],
   "source": [
    "print(f\"tensorflow version = {tf.__version__}\")\n",
    "print(f\"keras version = {keras.__version__}\")\n",
    "print(f\"[tf] available devices = {tf.config.get_visible_devices()}\")"
   ]
  },
  {
   "cell_type": "code",
   "execution_count": 3,
   "id": "64d320b6",
   "metadata": {},
   "outputs": [
    {
     "data": {
      "text/plain": [
       "['C:\\\\Users\\\\swsuser-i5\\\\.conda\\\\envs\\\\tf29py39\\\\python39.zip',\n",
       " 'C:\\\\Users\\\\swsuser-i5\\\\.conda\\\\envs\\\\tf29py39\\\\DLLs',\n",
       " 'C:\\\\Users\\\\swsuser-i5\\\\.conda\\\\envs\\\\tf29py39\\\\lib',\n",
       " 'C:\\\\Users\\\\swsuser-i5\\\\.conda\\\\envs\\\\tf29py39',\n",
       " '',\n",
       " 'C:\\\\Users\\\\swsuser-i5\\\\.conda\\\\envs\\\\tf29py39\\\\lib\\\\site-packages',\n",
       " 'C:\\\\Users\\\\swsuser-i5\\\\.conda\\\\envs\\\\tf29py39\\\\lib\\\\site-packages\\\\win32',\n",
       " 'C:\\\\Users\\\\swsuser-i5\\\\.conda\\\\envs\\\\tf29py39\\\\lib\\\\site-packages\\\\win32\\\\lib',\n",
       " 'C:\\\\Users\\\\swsuser-i5\\\\.conda\\\\envs\\\\tf29py39\\\\lib\\\\site-packages\\\\Pythonwin',\n",
       " 'C:\\\\Users\\\\swsuser-i5\\\\.conda\\\\envs\\\\tf29py39\\\\lib\\\\site-packages\\\\setuptools\\\\_vendor']"
      ]
     },
     "execution_count": 3,
     "metadata": {},
     "output_type": "execute_result"
    }
   ],
   "source": [
    "import sys\n",
    "import os\n",
    "sys.path"
   ]
  },
  {
   "cell_type": "code",
   "execution_count": 4,
   "id": "d0570778",
   "metadata": {},
   "outputs": [
    {
     "name": "stdout",
     "output_type": "stream",
     "text": [
      "cuda version = 64_113\n",
      "cudnn version = 64_8\n"
     ]
    }
   ],
   "source": [
    "sys_detail = tf.sysconfig.get_build_info()\n",
    "print(f'cuda version = {sys_detail[\"cuda_version\"]}')\n",
    "print(f'cudnn version = {sys_detail[\"cudnn_version\"]}')"
   ]
  },
  {
   "cell_type": "code",
   "execution_count": 5,
   "id": "48e6fe02",
   "metadata": {},
   "outputs": [
    {
     "data": {
      "text/plain": [
       "OrderedDict([('cpu_compiler',\n",
       "              'C:/Program Files (x86)/Microsoft Visual Studio/2019/Community/VC/Tools/MSVC/14.29.30037/bin/HostX64/x64/cl.exe'),\n",
       "             ('cuda_compute_capabilities',\n",
       "              ['compute_35',\n",
       "               'compute_52',\n",
       "               'compute_60',\n",
       "               'compute_61',\n",
       "               'compute_70',\n",
       "               'compute_75',\n",
       "               'compute_80']),\n",
       "             ('cuda_version', '64_113'),\n",
       "             ('cudart_dll_name', 'cudart64_113.dll'),\n",
       "             ('cudnn_dll_name', 'cudnn64_8.dll'),\n",
       "             ('cudnn_version', '64_8'),\n",
       "             ('is_cuda_build', True),\n",
       "             ('is_rocm_build', False),\n",
       "             ('is_tensorrt_build', False),\n",
       "             ('msvcp_dll_names', 'msvcp140.dll,msvcp140_1.dll'),\n",
       "             ('nvcuda_dll_name', 'nvcuda.dll')])"
      ]
     },
     "execution_count": 5,
     "metadata": {},
     "output_type": "execute_result"
    }
   ],
   "source": [
    "sys_detail"
   ]
  },
  {
   "cell_type": "code",
   "execution_count": 6,
   "id": "49877a8f",
   "metadata": {
    "scrolled": true
   },
   "outputs": [
    {
     "name": "stdout",
     "output_type": "stream",
     "text": [
      "Tue Apr 29 19:02:01 2025       \n",
      "+-----------------------------------------------------------------------------------------+\n",
      "| NVIDIA-SMI 553.62                 Driver Version: 553.62         CUDA Version: 12.4     |\n",
      "|-----------------------------------------+------------------------+----------------------+\n",
      "| GPU  Name                     TCC/WDDM  | Bus-Id          Disp.A | Volatile Uncorr. ECC |\n",
      "| Fan  Temp   Perf          Pwr:Usage/Cap |           Memory-Usage | GPU-Util  Compute M. |\n",
      "|                                         |                        |               MIG M. |\n",
      "|=========================================+========================+======================|\n",
      "|   0  NVIDIA A10-24Q               WDDM  |   00000002:00:00.0 Off |                    0 |\n",
      "| N/A    0C    P8             N/A /  N/A  |    1096MiB /  24512MiB |      0%      Default |\n",
      "|                                         |                        |                  N/A |\n",
      "+-----------------------------------------+------------------------+----------------------+\n",
      "                                                                                         \n",
      "+-----------------------------------------------------------------------------------------+\n",
      "| Processes:                                                                              |\n",
      "|  GPU   GI   CI        PID   Type   Process name                              GPU Memory |\n",
      "|        ID   ID                                                               Usage      |\n",
      "|=========================================================================================|\n",
      "|    0   N/A  N/A      8372    C+G   ...crosoft\\Edge\\Application\\msedge.exe      N/A      |\n",
      "|    0   N/A  N/A     11964    C+G   C:\\Windows\\explorer.exe                     N/A      |\n",
      "|    0   N/A  N/A     11972    C+G   C:\\Windows\\System32\\ShellHost.exe           N/A      |\n",
      "|    0   N/A  N/A     12904    C+G   ...2txyewy\\StartMenuExperienceHost.exe      N/A      |\n",
      "|    0   N/A  N/A     12928    C+G   ...nt.CBS_cw5n1h2txyewy\\SearchHost.exe      N/A      |\n",
      "|    0   N/A  N/A     14132    C+G   ...cal\\Microsoft\\OneDrive\\OneDrive.exe      N/A      |\n",
      "|    0   N/A  N/A     14424    C+G   ..._x64__8wekyb3d8bbwe\\WebViewHost.exe      N/A      |\n",
      "|    0   N/A  N/A     14600    C+G   ...CBS_cw5n1h2txyewy\\TextInputHost.exe      N/A      |\n",
      "|    0   N/A  N/A     15292    C+G   ...ekyb3d8bbwe\\PhoneExperienceHost.exe      N/A      |\n",
      "|    0   N/A  N/A     15920    C+G   ...on\\135.0.3179.98\\msedgewebview2.exe      N/A      |\n",
      "|    0   N/A  N/A     16748    C+G   ...s\\System32\\ApplicationFrameHost.exe      N/A      |\n",
      "|    0   N/A  N/A     17120    C+G   ...__8wekyb3d8bbwe\\WindowsTerminal.exe      N/A      |\n",
      "+-----------------------------------------------------------------------------------------+\n"
     ]
    }
   ],
   "source": [
    "!nvidia-smi"
   ]
  },
  {
   "cell_type": "code",
   "execution_count": 10,
   "id": "5c1617f3-f283-43cd-bb5f-23e990b890e0",
   "metadata": {},
   "outputs": [
    {
     "name": "stdout",
     "output_type": "stream",
     "text": [
      "IPython version: 8.18.1\n",
      "matplotlib version: 3.9.1\n",
      "jupyter notebook version: 7.4.1\n",
      "jupyter lab version: 4.4.1\n"
     ]
    }
   ],
   "source": [
    "import IPython\n",
    "import matplotlib\n",
    "import notebook\n",
    "import jupyterlab\n",
    "\n",
    "print(f\"IPython version: {IPython.__version__}\")\n",
    "print(f\"matplotlib version: {matplotlib.__version__}\")\n",
    "print(f\"jupyter notebook version: {notebook.__version__}\")\n",
    "print(f\"jupyter lab version: {jupyterlab.__version__}\")"
   ]
  },
  {
   "cell_type": "code",
   "execution_count": 9,
   "id": "dac72861-8f8b-4822-a13d-5e756b09999c",
   "metadata": {},
   "outputs": [
    {
     "name": "stdout",
     "output_type": "stream",
     "text": [
      "Selected Jupyter core packages...\n",
      "IPython          : 8.18.1\n",
      "ipykernel        : 6.29.5\n",
      "ipywidgets       : 8.1.6\n",
      "jupyter_client   : 8.6.3\n",
      "jupyter_core     : 5.7.2\n",
      "jupyter_server   : 2.15.0\n",
      "jupyterlab       : 4.4.1\n",
      "nbclient         : 0.10.2\n",
      "nbconvert        : 7.16.6\n",
      "nbformat         : 5.10.4\n",
      "notebook         : 7.4.1\n",
      "qtconsole        : not installed\n",
      "traitlets        : 5.14.3\n"
     ]
    }
   ],
   "source": [
    "!jupyter --version"
   ]
  },
  {
   "cell_type": "code",
   "execution_count": null,
   "id": "a2739256",
   "metadata": {},
   "outputs": [],
   "source": [
    "# jupyter \n",
    "!jupyter --paths"
   ]
  },
  {
   "cell_type": "markdown",
   "id": "25795dce",
   "metadata": {},
   "source": [
    "## copy from suwon login server(75.17.101.12) to PC\n",
    "$ scp user-id@75.17.101.12:/vol1/user/user-id/sample.txt .\n",
    "\n",
    "ex) Windows shell prompt에서 폴더 copy\n",
    "\n",
    "D:\\\\> scp -r gyutae.park@75.17.101.12:/vol1/user/gyutae.park/Workspace/AI-Application-Specialist-Vision .\n",
    "\n",
    "(corp id/passwd)\n",
    "\n",
    "- Container 내부 폴더 경로\n",
    " * /vol1/user/<user-id>/Workspace ... (Job container image에서) /group-volume/Workspace\n",
    " * /vol1/dbstore/sr_edu ... (Job container image에서) /group-volume/sr_edu"
   ]
  },
  {
   "cell_type": "markdown",
   "id": "50948e5d",
   "metadata": {},
   "source": [
    "# to compare performence between gpu and cpu\n",
    "```python\n",
    "from keras import backend as K\n",
    "def some_model():\n",
    "    model = keras.Sequenctial() \n",
    "    model.add(Dense(512, input_dim=32*32, activation='relu'))\n",
    "    ## ...\n",
    "    model.add(Dense(10, activation='softmax'))\n",
    "    return model;\n",
    "\n",
    "with K.tf.device('/gpu:0'):\n",
    "    model = some_model()\n",
    "    model.compile(loss='categorical_crossentropy',\n",
    "                  optimizer='adam',\n",
    "                  metrics=['accuracy'])\n",
    "    model.fit(X_train, y_train, batch_size=128, epochs=10, verbose=1) \n",
    "with K.tf.device('/cpu:0'):\n",
    "    model = some_model()\n",
    "    model.compile(loss='categorical_crossentropy',\n",
    "                  optimizer='adam',\n",
    "                  metrics=['accuracy'])\n",
    "    model.fit(X_train, y_train, batch_size=128, epochs=10, verbose=1) \n",
    "```"
   ]
  },
  {
   "cell_type": "code",
   "execution_count": null,
   "id": "8594d108",
   "metadata": {},
   "outputs": [],
   "source": []
  }
 ],
 "metadata": {
  "kernelspec": {
   "display_name": "tf29py39",
   "language": "python",
   "name": "tf29py39"
  },
  "language_info": {
   "codemirror_mode": {
    "name": "ipython",
    "version": 3
   },
   "file_extension": ".py",
   "mimetype": "text/x-python",
   "name": "python",
   "nbconvert_exporter": "python",
   "pygments_lexer": "ipython3",
   "version": "3.9.15"
  }
 },
 "nbformat": 4,
 "nbformat_minor": 5
}
