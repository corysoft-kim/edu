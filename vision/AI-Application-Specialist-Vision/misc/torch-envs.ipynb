{
 "cells": [
  {
   "cell_type": "markdown",
   "id": "1835e9bd",
   "metadata": {},
   "source": [
    "## Versions check and simple test in venv"
   ]
  },
  {
   "cell_type": "code",
   "execution_count": 1,
   "id": "3c1341e4",
   "metadata": {},
   "outputs": [],
   "source": [
    "import torch\n",
    "import torchvision\n",
    "#import torchaudio\n",
    "import transformers"
   ]
  },
  {
   "cell_type": "code",
   "execution_count": 2,
   "id": "e86a33e9-99a3-47c4-ac1b-1892de8e6fd9",
   "metadata": {},
   "outputs": [],
   "source": [
    "# pip install --upgrade transformers==4.51.1"
   ]
  },
  {
   "cell_type": "code",
   "execution_count": 3,
   "id": "010895f6-b7e7-40c4-8fdd-7c75fd72bf55",
   "metadata": {},
   "outputs": [
    {
     "name": "stdout",
     "output_type": "stream",
     "text": [
      "torch version:  2.5.1\n",
      "cuda availability:  True\n",
      "cuda version:  12.4\n",
      "torchvision version:  0.20.1\n",
      "cudnn version:  90100\n",
      "transformer version:  4.51.1\n"
     ]
    }
   ],
   "source": [
    "print('torch version: ', torch.__version__)\n",
    "print('cuda availability: ', torch.cuda.is_available())\n",
    "if torch.cuda.is_available():\n",
    "    print ('cuda version: ', torch.version.cuda)\n",
    "print('torchvision version: ', torchvision.__version__)\n",
    "print('cudnn version: ', torch.backends.cudnn.version())\n",
    "#print('torchaudio version: ', torchaudio.__version__)\n",
    "print('transformer version: ', transformers.__version__)"
   ]
  },
  {
   "cell_type": "code",
   "execution_count": 4,
   "id": "d304200a-e83a-462e-bb40-ccebeb6e7b73",
   "metadata": {},
   "outputs": [
    {
     "name": "stdout",
     "output_type": "stream",
     "text": [
      "python version:3.12.3 | packaged by conda-forge | (main, Apr 15 2024, 18:20:11) [MSC v.1938 64 bit (AMD64)]\n",
      "sys.version_info(major=3, minor=12, micro=3, releaselevel='final', serial=0)\n"
     ]
    },
    {
     "data": {
      "text/plain": [
       "['C:\\\\Users\\\\swsuser-i5\\\\.conda\\\\envs\\\\torch2b\\\\python312.zip',\n",
       " 'C:\\\\Users\\\\swsuser-i5\\\\.conda\\\\envs\\\\torch2b\\\\DLLs',\n",
       " 'C:\\\\Users\\\\swsuser-i5\\\\.conda\\\\envs\\\\torch2b\\\\Lib',\n",
       " 'C:\\\\Users\\\\swsuser-i5\\\\.conda\\\\envs\\\\torch2b',\n",
       " '',\n",
       " 'C:\\\\Users\\\\swsuser-i5\\\\AppData\\\\Roaming\\\\Python\\\\Python312\\\\site-packages',\n",
       " 'C:\\\\Users\\\\swsuser-i5\\\\.conda\\\\envs\\\\torch2b\\\\Lib\\\\site-packages',\n",
       " 'C:\\\\Users\\\\swsuser-i5\\\\.conda\\\\envs\\\\torch2b\\\\Lib\\\\site-packages\\\\win32',\n",
       " 'C:\\\\Users\\\\swsuser-i5\\\\.conda\\\\envs\\\\torch2b\\\\Lib\\\\site-packages\\\\win32\\\\lib',\n",
       " 'C:\\\\Users\\\\swsuser-i5\\\\.conda\\\\envs\\\\torch2b\\\\Lib\\\\site-packages\\\\Pythonwin']"
      ]
     },
     "execution_count": 4,
     "metadata": {},
     "output_type": "execute_result"
    }
   ],
   "source": [
    "import sys\n",
    "import os\n",
    "print(f'python version:{sys.version}')\n",
    "print(sys.version_info)\n",
    "sys.path"
   ]
  },
  {
   "cell_type": "code",
   "execution_count": 5,
   "id": "8c0af11f-1242-4313-b109-0237d3e4d456",
   "metadata": {},
   "outputs": [
    {
     "data": {
      "text/plain": [
       "36"
      ]
     },
     "execution_count": 5,
     "metadata": {},
     "output_type": "execute_result"
    }
   ],
   "source": [
    "os.cpu_count()"
   ]
  },
  {
   "cell_type": "code",
   "execution_count": 6,
   "id": "73e6053d-4c1c-47c9-aa2c-34db98f9d68a",
   "metadata": {},
   "outputs": [
    {
     "name": "stdout",
     "output_type": "stream",
     "text": [
      "IPython version: 8.31.0\n",
      "matplotlib version: 3.10.0\n",
      "jupyter notebook version: 7.3.2\n",
      "jupyter lab version: 4.3.4\n"
     ]
    }
   ],
   "source": [
    "import IPython\n",
    "import matplotlib\n",
    "import notebook\n",
    "import jupyterlab\n",
    "\n",
    "print(f\"IPython version: {IPython.__version__}\")\n",
    "print(f\"matplotlib version: {matplotlib.__version__}\")\n",
    "print(f\"jupyter notebook version: {notebook.__version__}\")\n",
    "print(f\"jupyter lab version: {jupyterlab.__version__}\")"
   ]
  },
  {
   "cell_type": "code",
   "execution_count": 7,
   "id": "b40df991-97f1-4814-bc1c-9ec010eac11b",
   "metadata": {},
   "outputs": [
    {
     "name": "stdout",
     "output_type": "stream",
     "text": [
      "Selected Jupyter core packages...\n",
      "IPython          : 8.31.0\n",
      "ipykernel        : 6.29.5\n",
      "ipywidgets       : 8.1.6\n",
      "jupyter_client   : 8.6.3\n",
      "jupyter_core     : 5.7.2\n",
      "jupyter_server   : 2.15.0\n",
      "jupyterlab       : 4.3.4\n",
      "nbclient         : 0.10.2\n",
      "nbconvert        : 7.16.5\n",
      "nbformat         : 5.10.4\n",
      "notebook         : 7.3.2\n",
      "qtconsole        : not installed\n",
      "traitlets        : 5.14.3\n"
     ]
    }
   ],
   "source": [
    "!jupyter --version"
   ]
  },
  {
   "cell_type": "markdown",
   "id": "e2140e37",
   "metadata": {},
   "source": [
    "## Proxy and ssl setting for ML platform-suwon region \n",
    "\n",
    "### For example, to download huggingface models"
   ]
  },
  {
   "cell_type": "code",
   "execution_count": null,
   "id": "1f678ac7",
   "metadata": {},
   "outputs": [],
   "source": [
    "# in order to download models from huggingface, it is necessary to set the following proxy and ssl \n",
    "# import ssl\n",
    "# ssl._create_default_https_context = ssl._create_unverified_context\n",
    "# import os\n",
    "# os.environ['REQUESTS_CA_BUNDLE'] = '/etc/ssl/certs/ca-certificates.crt'\n",
    "# os.environ['HTTP_PROXY'] ='http://75.17.107.42:8080'\n",
    "# os.environ['HTTPS_PROXY'] ='http://75.17.107.42:8080'"
   ]
  },
  {
   "cell_type": "code",
   "execution_count": null,
   "id": "538b7653",
   "metadata": {},
   "outputs": [],
   "source": [
    "from PIL import Image\n",
    "import requests"
   ]
  },
  {
   "cell_type": "code",
   "execution_count": null,
   "id": "9ea1b737",
   "metadata": {},
   "outputs": [],
   "source": [
    "url = \"http://images.cocodataset.org/val2017/000000039769.jpg\"\n",
    "image = Image.open(requests.get(url, stream=True).raw)"
   ]
  },
  {
   "cell_type": "code",
   "execution_count": null,
   "id": "240ea812",
   "metadata": {},
   "outputs": [],
   "source": [
    "image"
   ]
  },
  {
   "cell_type": "code",
   "execution_count": null,
   "id": "3bad395f",
   "metadata": {},
   "outputs": [],
   "source": [
    "image.show()"
   ]
  },
  {
   "cell_type": "code",
   "execution_count": null,
   "id": "dfec1c6a",
   "metadata": {},
   "outputs": [],
   "source": [
    "display(image)"
   ]
  },
  {
   "cell_type": "code",
   "execution_count": null,
   "id": "7590edd1",
   "metadata": {},
   "outputs": [],
   "source": [
    "#ipython, matplotlib"
   ]
  },
  {
   "cell_type": "code",
   "execution_count": 12,
   "id": "03e1ffef-2b45-4f79-97f5-ab0b997936a0",
   "metadata": {},
   "outputs": [
    {
     "name": "stdout",
     "output_type": "stream",
     "text": [
      "Wed Aug 13 20:13:06 2025       \n",
      "+-----------------------------------------------------------------------------------------+\n",
      "| NVIDIA-SMI 553.62                 Driver Version: 553.62         CUDA Version: 12.4     |\n",
      "|-----------------------------------------+------------------------+----------------------+\n",
      "| GPU  Name                     TCC/WDDM  | Bus-Id          Disp.A | Volatile Uncorr. ECC |\n",
      "| Fan  Temp   Perf          Pwr:Usage/Cap |           Memory-Usage | GPU-Util  Compute M. |\n",
      "|                                         |                        |               MIG M. |\n",
      "|=========================================+========================+======================|\n",
      "|   0  NVIDIA A10-24Q               WDDM  |   00000002:00:00.0 Off |                    0 |\n",
      "| N/A    0C    P0             N/A /  N/A  |    2605MiB /  24512MiB |     42%      Default |\n",
      "|                                         |                        |                  N/A |\n",
      "+-----------------------------------------+------------------------+----------------------+\n",
      "                                                                                         \n",
      "+-----------------------------------------------------------------------------------------+\n",
      "| Processes:                                                                              |\n",
      "|  GPU   GI   CI        PID   Type   Process name                              GPU Memory |\n",
      "|        ID   ID                                                               Usage      |\n",
      "|=========================================================================================|\n",
      "|    0   N/A  N/A      3088    C+G   ...cal\\Microsoft\\OneDrive\\OneDrive.exe      N/A      |\n",
      "|    0   N/A  N/A      5408    C+G   ...nt.CBS_cw5n1h2txyewy\\SearchHost.exe      N/A      |\n",
      "|    0   N/A  N/A      7832    C+G   ...__8wekyb3d8bbwe\\WindowsTerminal.exe      N/A      |\n",
      "|    0   N/A  N/A     12324    C+G   ...2txyewy\\StartMenuExperienceHost.exe      N/A      |\n",
      "|    0   N/A  N/A     12528    C+G   C:\\Windows\\System32\\ShellHost.exe           N/A      |\n",
      "|    0   N/A  N/A     12652    C+G   C:\\Windows\\explorer.exe                     N/A      |\n",
      "|    0   N/A  N/A     12716    C+G   ...oogle\\Chrome\\Application\\chrome.exe      N/A      |\n",
      "|    0   N/A  N/A     14972    C+G   ...ekyb3d8bbwe\\PhoneExperienceHost.exe      N/A      |\n",
      "|    0   N/A  N/A     15028    C+G   ...CBS_cw5n1h2txyewy\\TextInputHost.exe      N/A      |\n",
      "|    0   N/A  N/A     16244      C   ...r-i5\\.conda\\envs\\torch2b\\python.exe      N/A      |\n",
      "|    0   N/A  N/A     17120    C+G   ...001.0_x64__8wekyb3d8bbwe\\Photos.exe      N/A      |\n",
      "|    0   N/A  N/A     17316    C+G   ...001.0_x64__8wekyb3d8bbwe\\Photos.exe      N/A      |\n",
      "+-----------------------------------------------------------------------------------------+\n"
     ]
    }
   ],
   "source": [
    "!nvidia-smi"
   ]
  },
  {
   "cell_type": "code",
   "execution_count": null,
   "id": "d064e7b9-f2bd-4924-ae45-5a0cf53f23ed",
   "metadata": {},
   "outputs": [],
   "source": []
  }
 ],
 "metadata": {
  "kernelspec": {
   "display_name": "torch2b",
   "language": "python",
   "name": "torch2b"
  },
  "language_info": {
   "codemirror_mode": {
    "name": "ipython",
    "version": 3
   },
   "file_extension": ".py",
   "mimetype": "text/x-python",
   "name": "python",
   "nbconvert_exporter": "python",
   "pygments_lexer": "ipython3",
   "version": "3.12.3"
  }
 },
 "nbformat": 4,
 "nbformat_minor": 5
}
