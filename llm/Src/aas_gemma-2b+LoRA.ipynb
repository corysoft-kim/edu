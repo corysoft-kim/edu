{
 "cells": [
  {
   "cell_type": "markdown",
   "id": "f6ae7495",
   "metadata": {
    "id": "f6ae7495"
   },
   "source": [
    "# LLM Fine-Tuning (gemma-2b + LoRA)"
   ]
  },
  {
   "cell_type": "markdown",
   "id": "fe8a9269",
   "metadata": {
    "id": "fe8a9269"
   },
   "source": [
    "공개된 대규모 언어모델 **\"gemma-2b\"** 을 Foundation Model로 하고, LoRA 기법을 적용하여 효과적으로 파인튜닝하는 실습을 진행해 보겠습니다.  \n",
    "- Task: Causal Language Model (Instruct Fine-Tuning)\n",
    "- Foundation Model: “gemma-2b”\n",
    "- Dataset: “KorAlpaca”\n",
    "- Trainer: Huggingface PEFT/LoRA"
   ]
  },
  {
   "cell_type": "markdown",
   "id": "d16301bf",
   "metadata": {
    "id": "d16301bf"
   },
   "source": [
    "## 0. Setup"
   ]
  },
  {
   "cell_type": "code",
   "execution_count": 1,
   "id": "f82f9530",
   "metadata": {
    "id": "f82f9530"
   },
   "outputs": [],
   "source": [
    "import os\n",
    "os.environ['HF_HOME'] = 'D:/HF/cache'\n",
    "os.environ['HF_DATASETS'] = 'D:/HF/datasets'\n",
    "os.environ['HF_HUB_DISABLE_SYMLINKS_WARNING'] = \"1\""
   ]
  },
  {
   "cell_type": "code",
   "execution_count": 2,
   "id": "7d35c17f-8541-4f2f-9fa1-e3d3767576fa",
   "metadata": {},
   "outputs": [],
   "source": [
    "import os\n",
    "os.environ[\"TOKENIZERS_PARALLELISM\"] = \"false\"\n",
    "os.environ[\"FSDP_CPU_RAM_EFFICIENT_LOADING\"] = \"false\""
   ]
  },
  {
   "cell_type": "code",
   "execution_count": null,
   "id": "635bdf30",
   "metadata": {
    "colab": {
     "base_uri": "https://localhost:8080/"
    },
    "executionInfo": {
     "elapsed": 39410,
     "status": "ok",
     "timestamp": 1733915780225,
     "user": {
      "displayName": "이재원",
      "userId": "12576076454994383000"
     },
     "user_tz": -540
    },
    "id": "635bdf30",
    "outputId": "39472f06-013c-408a-9f85-b4022fdf1180"
   },
   "outputs": [],
   "source": [
    "# !pip install -q transformers==4.51.1\n",
    "# !pip install -q datasets==3.2.0\n",
    "# !pip install -q peft==0.15.1\n",
    "# !pip install -q trl==0.16.1\n",
    "# !pip install -q accelerate==1.3.0"
   ]
  },
  {
   "cell_type": "code",
   "execution_count": null,
   "id": "hOac6xYkaDp8",
   "metadata": {
    "executionInfo": {
     "elapsed": 6986,
     "status": "ok",
     "timestamp": 1733915814500,
     "user": {
      "displayName": "이재원",
      "userId": "12576076454994383000"
     },
     "user_tz": -540
    },
    "id": "hOac6xYkaDp8"
   },
   "outputs": [],
   "source": [
    "# !pip install -q bitsandbytes"
   ]
  },
  {
   "cell_type": "code",
   "execution_count": 3,
   "id": "d0c902fb-1b8e-42ce-bbca-e20496906982",
   "metadata": {},
   "outputs": [],
   "source": [
    "from IPython.display import display\n",
    "from tqdm.notebook import tqdm as notebook_tqdm"
   ]
  },
  {
   "cell_type": "code",
   "execution_count": 4,
   "id": "244d2d07",
   "metadata": {
    "executionInfo": {
     "elapsed": 23491,
     "status": "ok",
     "timestamp": 1733915847496,
     "user": {
      "displayName": "이재원",
      "userId": "12576076454994383000"
     },
     "user_tz": -540
    },
    "id": "244d2d07"
   },
   "outputs": [],
   "source": [
    "import torch\n",
    "from datasets import Dataset, load_dataset\n",
    "from transformers import AutoTokenizer, AutoModelForCausalLM, TrainingArguments, pipeline\n",
    "from peft import LoraConfig, PeftModel\n",
    "from trl import SFTTrainer"
   ]
  },
  {
   "cell_type": "code",
   "execution_count": null,
   "id": "401660d9",
   "metadata": {
    "colab": {
     "base_uri": "https://localhost:8080/",
     "height": 17,
     "referenced_widgets": [
      "6389b2378cdd484a9722cb9ea389a37d",
      "f6d3b1083d4a4cf09584567377bdb9dc",
      "c74a2baa6c824412ad7050123e0bca79",
      "ba4ebcee51b5487caf3522a258893141",
      "90556d7833994077996c0ce584429e23",
      "e50acb5452e242349916cf8f9bcf83f7",
      "5f4c3792321f4f21ba74e807b8bd228a",
      "a09a45b0c970404d931193ea070d3074",
      "8b8630ce3e5849dea7b670375906e930",
      "dcbb2c7f209c486a912325e0502e654f",
      "fdd64eb69f3f4dafb841b8bf6dd1348a",
      "60c42944647545358f3854971048f3ba",
      "d6666adcc4ba411e9552c6591610a7c3",
      "5cfd2886e6ab4f8b80ec481299bcd3b3",
      "5e71ebb4c6bc49d2983bf2f1776d47bf",
      "2c02755d651e4d9b94f2da93350111ec",
      "2694e7bbe66b4cb4a0b07817add9ede5",
      "b7607f320b8448b09a1cc767b66fd0b8",
      "3c8e2d70a92b4af4845fb6da2e3e4293",
      "dcc6b4cc836c469abeab1ea2ea467c6c"
     ]
    },
    "executionInfo": {
     "elapsed": 573,
     "status": "ok",
     "timestamp": 1733899448499,
     "user": {
      "displayName": "이재원",
      "userId": "12576076454994383000"
     },
     "user_tz": -540
    },
    "id": "401660d9",
    "outputId": "05d305ef-79e7-4cb6-ee86-c140d9d0365a"
   },
   "outputs": [],
   "source": [
    "\"\"\"\n",
    "from huggingface_hub import notebook_login\n",
    "notebook_login()\n",
    "\"\"\""
   ]
  },
  {
   "cell_type": "code",
   "execution_count": null,
   "id": "4f56a4e0-5ff9-439a-a642-1baafe37bd72",
   "metadata": {},
   "outputs": [],
   "source": [
    "\"\"\"\n",
    "from huggingface_hub import login\n",
    "from dotenv import load_dotenv\n",
    "from pathlib import Path\n",
    "import os\n",
    "\n",
    "dotenv_path = Path('Z:/Misc/access_token.env')\n",
    "load_dotenv(dotenv_path=dotenv_path)\n",
    "access_key=os.getenv('HF_TOKEN')\n",
    "\n",
    "print(f\"HF Access Key: {access_key}\")\n",
    "\"\"\""
   ]
  },
  {
   "cell_type": "code",
   "execution_count": 5,
   "id": "b1ddddb8",
   "metadata": {
    "id": "b1ddddb8",
    "outputId": "fdebcb6a-4767-4b6a-9d1e-2972dd06a016"
   },
   "outputs": [
    {
     "name": "stdout",
     "output_type": "stream",
     "text": [
      "Fri Aug  1 13:12:03 2025       \n",
      "+-----------------------------------------------------------------------------------------+\n",
      "| NVIDIA-SMI 553.62                 Driver Version: 553.62         CUDA Version: 12.4     |\n",
      "|-----------------------------------------+------------------------+----------------------+\n",
      "| GPU  Name                     TCC/WDDM  | Bus-Id          Disp.A | Volatile Uncorr. ECC |\n",
      "| Fan  Temp   Perf          Pwr:Usage/Cap |           Memory-Usage | GPU-Util  Compute M. |\n",
      "|                                         |                        |               MIG M. |\n",
      "|=========================================+========================+======================|\n",
      "|   0  NVIDIA A10-24Q               WDDM  |   00000002:00:00.0 Off |                    0 |\n",
      "| N/A    0C    P8             N/A /  N/A  |    1426MiB /  24512MiB |      0%      Default |\n",
      "|                                         |                        |                  N/A |\n",
      "+-----------------------------------------+------------------------+----------------------+\n",
      "                                                                                         \n",
      "+-----------------------------------------------------------------------------------------+\n",
      "| Processes:                                                                              |\n",
      "|  GPU   GI   CI        PID   Type   Process name                              GPU Memory |\n",
      "|        ID   ID                                                               Usage      |\n",
      "|=========================================================================================|\n",
      "|    0   N/A  N/A      4072    C+G   ...oogle\\Chrome\\Application\\chrome.exe      N/A      |\n",
      "|    0   N/A  N/A      8744    C+G   ...nt.CBS_cw5n1h2txyewy\\SearchHost.exe      N/A      |\n",
      "|    0   N/A  N/A     11044    C+G   ...2txyewy\\StartMenuExperienceHost.exe      N/A      |\n",
      "|    0   N/A  N/A     11348    C+G   ...5n1h2txyewy\\ShellExperienceHost.exe      N/A      |\n",
      "|    0   N/A  N/A     12088    C+G   C:\\Windows\\explorer.exe                     N/A      |\n",
      "|    0   N/A  N/A     12096    C+G   C:\\Windows\\System32\\ShellHost.exe           N/A      |\n",
      "|    0   N/A  N/A     15184    C+G   ...CBS_cw5n1h2txyewy\\TextInputHost.exe      N/A      |\n",
      "|    0   N/A  N/A     15456    C+G   ...cal\\Microsoft\\OneDrive\\OneDrive.exe      N/A      |\n",
      "|    0   N/A  N/A     15700    C+G   ...ekyb3d8bbwe\\PhoneExperienceHost.exe      N/A      |\n",
      "|    0   N/A  N/A     16944    C+G   ...__8wekyb3d8bbwe\\WindowsTerminal.exe      N/A      |\n",
      "|    0   N/A  N/A     17016    C+G   ...oogle\\Chrome\\Application\\chrome.exe      N/A      |\n",
      "+-----------------------------------------------------------------------------------------+\n"
     ]
    }
   ],
   "source": [
    "!nvidia-smi"
   ]
  },
  {
   "cell_type": "markdown",
   "id": "36021449",
   "metadata": {
    "id": "36021449"
   },
   "source": [
    "## 1. DataSet: KoAlpaca v1.1a"
   ]
  },
  {
   "cell_type": "markdown",
   "id": "9a2bf274",
   "metadata": {
    "id": "9a2bf274"
   },
   "source": [
    "질문을 전달하면 답변하는 형태로 대규모 언어모델을 파인튜닝하기 위한 학습 데이터셋을 준비하겠습니다.  \n",
    "데이터셋은 **Instruction** (지시사항)과 **Output** (출력)의 쌍으로 구성되어 있습니다.  \n",
    "KoAlpaca 데이터셋은 지식iN 기반의 질문-답변 데이터셋이며, Huggingface Dataset 에 공개되어 있습니다."
   ]
  },
  {
   "cell_type": "code",
   "execution_count": 6,
   "id": "cbbd7a24",
   "metadata": {
    "colab": {
     "base_uri": "https://localhost:8080/"
    },
    "executionInfo": {
     "elapsed": 4085,
     "status": "ok",
     "timestamp": 1733915914275,
     "user": {
      "displayName": "이재원",
      "userId": "12576076454994383000"
     },
     "user_tz": -540
    },
    "id": "cbbd7a24",
    "outputId": "3f2bb6eb-6471-454e-9baf-5797396f7e5c"
   },
   "outputs": [
    {
     "data": {
      "text/plain": [
       "DatasetDict({\n",
       "    train: Dataset({\n",
       "        features: ['instruction', 'output', 'url'],\n",
       "        num_rows: 21155\n",
       "    })\n",
       "})"
      ]
     },
     "execution_count": 6,
     "metadata": {},
     "output_type": "execute_result"
    }
   ],
   "source": [
    "from datasets import load_dataset\n",
    "\n",
    "# dataset = load_dataset(\"beomi/KoAlpaca-v1.1a\")\n",
    "dataset = load_dataset(\"//swschoolavdazfiles002.file.core.windows.net/aias-language/Dataset/KoAlpaca-v1.1a\")\n",
    "\n",
    "dataset"
   ]
  },
  {
   "cell_type": "code",
   "execution_count": 7,
   "id": "f8b71ece",
   "metadata": {
    "colab": {
     "base_uri": "https://localhost:8080/"
    },
    "executionInfo": {
     "elapsed": 299,
     "status": "ok",
     "timestamp": 1733915918931,
     "user": {
      "displayName": "이재원",
      "userId": "12576076454994383000"
     },
     "user_tz": -540
    },
    "id": "f8b71ece",
    "outputId": "d7c8070c-0e82-4c81-b402-5f701f911c70"
   },
   "outputs": [
    {
     "data": {
      "text/plain": [
       "{'instruction': '양파는 어떤 식물 부위인가요? 그리고 고구마는 뿌리인가요?',\n",
       " 'output': '양파는 잎이 아닌 식물의 줄기 부분입니다. 고구마는 식물의 뿌리 부분입니다. \\n\\n식물의 부위의 구분에 대해 궁금해하는 분이라면 분명 이 질문에 대한 답을 찾고 있을 것입니다. 양파는 잎이 아닌 줄기 부분입니다. 고구마는 다른 질문과 답변에서 언급된 것과 같이 뿌리 부분입니다. 따라서, 양파는 식물의 줄기 부분이 되고, 고구마는 식물의 뿌리 부분입니다.\\n\\n 덧붙이는 답변: 고구마 줄기도 볶아먹을 수 있나요? \\n\\n고구마 줄기도 식용으로 볶아먹을 수 있습니다. 하지만 줄기 뿐만 아니라, 잎, 씨, 뿌리까지 모든 부위가 식용으로 활용되기도 합니다. 다만, 한국에서는 일반적으로 뿌리 부분인 고구마를 주로 먹습니다.',\n",
       " 'url': 'https://kin.naver.com/qna/detail.naver?d1id=11&dirId=1116&docId=55320268'}"
      ]
     },
     "execution_count": 7,
     "metadata": {},
     "output_type": "execute_result"
    }
   ],
   "source": [
    "dataset['train'][0]"
   ]
  },
  {
   "cell_type": "markdown",
   "id": "37c79aac",
   "metadata": {
    "id": "37c79aac"
   },
   "source": [
    "파인튜닝하기 위하여 학습 데이터를 다음과 같은 Instruction Format 형태로 변환을 합니다.  \n",
    "```\n",
    "### Question:\n",
    "\n",
    "### Response: <eos>\n",
    "```"
   ]
  },
  {
   "cell_type": "code",
   "execution_count": 8,
   "id": "35197504",
   "metadata": {
    "executionInfo": {
     "elapsed": 294,
     "status": "ok",
     "timestamp": 1733915923383,
     "user": {
      "displayName": "이재원",
      "userId": "12576076454994383000"
     },
     "user_tz": -540
    },
    "id": "35197504"
   },
   "outputs": [],
   "source": [
    "def generate_prompt(example):\n",
    "    output_texts = []\n",
    "    for i in range(len(example['instruction'])):\n",
    "        # [실습] 다음 코드를 완성하세요!!\n",
    "        # Example에 대해 위에서 정의한 Instruction Format 형태로 변환합니다.\n",
    "        prompt = f\"### Question: {example['instruction'][i]}\\n\\n### Response: {example['output'][i]}<eos>\"\n",
    "        output_texts.append(prompt)\n",
    "    return output_texts"
   ]
  },
  {
   "cell_type": "code",
   "execution_count": 9,
   "id": "e689df5c",
   "metadata": {
    "colab": {
     "base_uri": "https://localhost:8080/"
    },
    "executionInfo": {
     "elapsed": 298,
     "status": "ok",
     "timestamp": 1733915925798,
     "user": {
      "displayName": "이재원",
      "userId": "12576076454994383000"
     },
     "user_tz": -540
    },
    "id": "e689df5c",
    "outputId": "ecab567e-f4ce-4b85-b913-5f3c91822a24"
   },
   "outputs": [
    {
     "name": "stdout",
     "output_type": "stream",
     "text": [
      "### Question: 양파는 어떤 식물 부위인가요? 그리고 고구마는 뿌리인가요?\n",
      "\n",
      "### Response: 양파는 잎이 아닌 식물의 줄기 부분입니다. 고구마는 식물의 뿌리 부분입니다. \n",
      "\n",
      "식물의 부위의 구분에 대해 궁금해하는 분이라면 분명 이 질문에 대한 답을 찾고 있을 것입니다. 양파는 잎이 아닌 줄기 부분입니다. 고구마는 다른 질문과 답변에서 언급된 것과 같이 뿌리 부분입니다. 따라서, 양파는 식물의 줄기 부분이 되고, 고구마는 식물의 뿌리 부분입니다.\n",
      "\n",
      " 덧붙이는 답변: 고구마 줄기도 볶아먹을 수 있나요? \n",
      "\n",
      "고구마 줄기도 식용으로 볶아먹을 수 있습니다. 하지만 줄기 뿐만 아니라, 잎, 씨, 뿌리까지 모든 부위가 식용으로 활용되기도 합니다. 다만, 한국에서는 일반적으로 뿌리 부분인 고구마를 주로 먹습니다.<eos>\n"
     ]
    }
   ],
   "source": [
    "train_data = dataset['train']\n",
    "print(generate_prompt(train_data[:1])[0])"
   ]
  },
  {
   "cell_type": "markdown",
   "id": "23bd93a5",
   "metadata": {
    "id": "23bd93a5"
   },
   "source": [
    "## 2. Foundation Model & Tokenizer"
   ]
  },
  {
   "cell_type": "markdown",
   "id": "f62b9400",
   "metadata": {
    "id": "f62b9400"
   },
   "source": [
    "Foundation LLM 으로 \"google/gemma-2b\" 모델을 로딩합니다.  \n",
    "- Lightweight, state-of-the-art open models\n",
    "- Text-to-text, decoder-only LLM (English)\n",
    "- Instruction following & Multi-turn conversations"
   ]
  },
  {
   "cell_type": "code",
   "execution_count": 10,
   "id": "c51fc882",
   "metadata": {
    "colab": {
     "base_uri": "https://localhost:8080/",
     "height": 122,
     "referenced_widgets": [
      "0d4e45675c56455783ef6f08da8817ab",
      "2fd66bb8e4444b49aa875a04733644fe",
      "832965b689fa41ffb8d3d76036dce4d9",
      "db47536f0ccc47b0bfddee281fe22edd",
      "9497268626ad438499696cb65f789377",
      "8b3d98bd62264bb581630d27e8d424a0",
      "67a8d1427aa94208b98ff14149f32bbb",
      "0402b6c702694940910e17e15b35d347",
      "00106292ae4f46798aefb97c19b8e97c",
      "2a5d1a7cd30c46ac88c3464528c94b77",
      "60cc5b37d0a34ee4899d0d1284177f49"
     ]
    },
    "executionInfo": {
     "elapsed": 25954,
     "status": "ok",
     "timestamp": 1733916025914,
     "user": {
      "displayName": "이재원",
      "userId": "12576076454994383000"
     },
     "user_tz": -540
    },
    "id": "c51fc882",
    "outputId": "ba6ec05a-f524-4553-819c-6e2388d7b13d"
   },
   "outputs": [
    {
     "data": {
      "application/vnd.jupyter.widget-view+json": {
       "model_id": "81c6e29e56434509a032740595cafc7a",
       "version_major": 2,
       "version_minor": 0
      },
      "text/plain": [
       "Loading checkpoint shards:   0%|          | 0/2 [00:00<?, ?it/s]"
      ]
     },
     "metadata": {},
     "output_type": "display_data"
    }
   ],
   "source": [
    "# BASE_MODEL = \"google/gemma-2b\"\n",
    "BASE_MODEL = \"//swschoolavdazfiles002.file.core.windows.net/aias-language/Model/gemma-2b\"\n",
    "\n",
    "# [실습] 다음 코드를 완성하세요!!\n",
    "# 사전 학습된 'google/gemma-2b' 모델과 토크나이저를 가져옵니다.\n",
    "model = AutoModelForCausalLM.from_pretrained(\n",
    "    BASE_MODEL,\n",
    "    torch_dtype=torch.bfloat16,\n",
    "    device_map=\"auto\"\n",
    ")\n",
    "\n",
    "tokenizer = AutoTokenizer.from_pretrained(BASE_MODEL)\n",
    "tokenizer.padding_side = 'right'"
   ]
  },
  {
   "cell_type": "code",
   "execution_count": 11,
   "id": "e6f33606",
   "metadata": {
    "executionInfo": {
     "elapsed": 272,
     "status": "ok",
     "timestamp": 1733916034138,
     "user": {
      "displayName": "이재원",
      "userId": "12576076454994383000"
     },
     "user_tz": -540
    },
    "id": "e6f33606"
   },
   "outputs": [],
   "source": [
    "prompt = \"건강하게 살기 위한 세 가지 방법은?\""
   ]
  },
  {
   "cell_type": "code",
   "execution_count": 12,
   "id": "651c8df6",
   "metadata": {
    "colab": {
     "base_uri": "https://localhost:8080/"
    },
    "executionInfo": {
     "elapsed": 21179,
     "status": "ok",
     "timestamp": 1733916061475,
     "user": {
      "displayName": "이재원",
      "userId": "12576076454994383000"
     },
     "user_tz": -540
    },
    "id": "651c8df6",
    "outputId": "e1ca14d5-caee-4193-8e9a-23cc455cbb18",
    "scrolled": true
   },
   "outputs": [
    {
     "name": "stderr",
     "output_type": "stream",
     "text": [
      "Device set to use cuda:0\n"
     ]
    },
    {
     "name": "stdout",
     "output_type": "stream",
     "text": [
      "\n",
      "\n",
      "1. <strong>운동</strong>\n",
      "2. <strong>식사</strong>\n",
      "3. <strong>정신적 안녕감</strong>\n",
      "\n",
      "이 중에서 가장 중요한 것은 운동이다. 운동을 하지 않으면 건강하지 못하고, 운동을 하면 건강해진다. 그렇지만 운동을 하는데 있어서 무엇이 중요할까요?\n",
      "\n",
      "<h2>무엇이 운동의 주된 목표인가</h2>\n",
      "\n",
      "운동의 목표는 어떤 것이 있는가?\n",
      "\n",
      "* 체중 조절\n",
      "* 근력 강화\n",
      "* 심장과 호흡기 기능 향상\n",
      "* 신체적 활동 증진\n",
      "* 정신적 안녕감 증진\n",
      "* 생리적 안녕감 증진\n",
      "* 성장 발달에 도움\n",
      "* 삶의 질 향상\n",
      "\n",
      "그런데 이 중에서 운동을 하는데 있어서 가장 중요한 것은 무엇일까요?\n",
      "\n",
      "<h3>심장과 호흡기 기능 향상</h3>\n",
      "\n",
      "우선적으로 생각해볼 수 있는 것은 심장과 호흡기 기능 향상이다.\n",
      "\n",
      "심장과 호흡기 기능 향상을 위해서는 운동을 해야 한다.\n",
      "\n",
      "운동을 하지 않는다면 심장과 호흡기 기능이 저하되고, 심장과 호흡기 기능이 저하되면 건강이 나빠질 것이다.\n",
      "\n",
      "운동을 하지 않으면 심장과 호흡기 기능이 저하되고, 심장과 호흡기 기능이 저하되면 건강이 나빠질 것이다.\n",
      "\n",
      "그래서 운동을 해야 한다.\n",
      "\n",
      "<h3>근육 강화</h3>\n",
      "\n",
      "또 다른 운동의 목표는 근육 강화이다.\n",
      "\n",
      "근육 강화를 위해서는 운동을 해야 한다.\n",
      "\n",
      "근육 강화를 위해서는 운동을 해야 한다.\n",
      "\n",
      "근육 강화를 위해서는 운동을 해야 한다.\n",
      "\n",
      "근육 강화를 위해서는 운동을 해야 한다.\n",
      "\n",
      "근육 강화를 위해서는 운동을 해야 한다.\n",
      "\n",
      "근육 강화를 위해서는 운동을 해야 한다.\n",
      "\n",
      "근육 강화를 위해서는 운동을 해야 한다.\n",
      "\n",
      "근육 강화를 위해서는 운동을 해야 한다.\n",
      "\n",
      "근육 강화를 위해서는 운동을 해야 한다.\n",
      "\n",
      "근육 강화\n"
     ]
    }
   ],
   "source": [
    "pipe = pipeline(\"text-generation\", model=model, tokenizer=tokenizer, max_new_tokens=512)\n",
    "\n",
    "# [실습] 다음 코드를 완성하세요!!\n",
    "# Text-Generation Pipeline 관련 do_sample, temperature, top_k, top_p, repetition_penalty 등 파라미터를 설정합니다.\n",
    "outputs = pipe(\n",
    "    prompt,\n",
    "    do_sample=True,\n",
    "    temperature=0.2,\n",
    "    top_k=50,\n",
    "    top_p=0.95,\n",
    "    repetition_penalty=1.2,\n",
    ")\n",
    "\n",
    "print(outputs[0][\"generated_text\"][len(prompt):])"
   ]
  },
  {
   "cell_type": "markdown",
   "id": "dc1451b3",
   "metadata": {
    "id": "dc1451b3"
   },
   "source": [
    "## 3. PEFT LoRA Setup"
   ]
  },
  {
   "cell_type": "markdown",
   "id": "f68037fe",
   "metadata": {
    "id": "f68037fe"
   },
   "source": [
    "LoraConfig 함수를 통해 파인튜닝을 위한 주요 LoRA 파라미터를 설정합니다."
   ]
  },
  {
   "cell_type": "code",
   "execution_count": 13,
   "id": "33e7dbb9",
   "metadata": {
    "executionInfo": {
     "elapsed": 291,
     "status": "ok",
     "timestamp": 1733916079992,
     "user": {
      "displayName": "이재원",
      "userId": "12576076454994383000"
     },
     "user_tz": -540
    },
    "id": "33e7dbb9"
   },
   "outputs": [],
   "source": [
    "# [실습] 다음 코드를 완성하세요!!\n",
    "# LoRA 파인튜닝을 위한 Config를 설정합니다. r, lora_alpha, lora_dropout, target_modules, task_type\n",
    "lora_config = LoraConfig(\n",
    "    r=6,\n",
    "    lora_alpha = 8,\n",
    "    lora_dropout = 0.05,\n",
    "    target_modules=[\"q_proj\", \"k_proj\", \"v_proj\", \"o_proj\"],\n",
    "    task_type=\"CAUSAL_LM\",\n",
    ")"
   ]
  },
  {
   "cell_type": "markdown",
   "id": "3f303c8d",
   "metadata": {
    "id": "3f303c8d"
   },
   "source": [
    "## 4. Model Training (PEFT LoRA)"
   ]
  },
  {
   "cell_type": "markdown",
   "id": "d24c820b",
   "metadata": {
    "id": "d24c820b"
   },
   "source": [
    "SFT Trainer 관련 필요한 학습 파라미터 설정한 후 PEFT LoRA 기반으로 파인튜닝을 위한 학습을 진행합니다."
   ]
  },
  {
   "cell_type": "code",
   "execution_count": 15,
   "id": "974de900-fad2-47dc-8ae2-8f71cb99a301",
   "metadata": {},
   "outputs": [],
   "source": [
    "# [실습] 다음 코드를 완성하세요!!\n",
    "# Training Arguments를 설정을 합니다. (num_train_epochs, max_steps,warmup_steps, etc.)\n",
    "training_args = TrainingArguments(\n",
    "    output_dir=\"D:/Trainer/PEFT-Trainer\",\n",
    "    num_train_epochs = 1,\n",
    "    max_steps=1000, # 3000\n",
    "    per_device_train_batch_size=1,\n",
    "    gradient_accumulation_steps=4,\n",
    "    label_names=[\"labels\"],\n",
    "    # optim=\"adamw_torch\", # Default: Pytorch AdamW\n",
    "    warmup_steps=10,\n",
    "    learning_rate=2e-4,\n",
    "    bf16=True, # fp16=True\n",
    "    logging_steps=100,\n",
    "    push_to_hub=False,\n",
    "    report_to='none',\n",
    "    dataloader_num_workers=2,\n",
    "    dataloader_prefetch_factor=1,\n",
    ")"
   ]
  },
  {
   "cell_type": "code",
   "execution_count": 16,
   "id": "9131ea8c",
   "metadata": {
    "colab": {
     "base_uri": "https://localhost:8080/",
     "height": 176,
     "referenced_widgets": [
      "47c3683ad1454e75b31f881f6a7035a3",
      "129eaac1c2ca423088a58679ac4d53d8",
      "096f23d564e143b3896089b9d88fa163",
      "81b7e21e0f50411da3e64e703bd15660",
      "94509a0dfb35487b98a2a51b3c299ade",
      "eb533dc5bdde46a7890a3ac32fce2f3d",
      "f05a94f36bee4079bf6e473184b8a3ec",
      "9a72129d93a541c78c6047ffdf11b1da",
      "b2a79166b13c4965844fb42a6bf41ca9",
      "e77ea180595b4568a297aedb8af2b544",
      "831ccbb8661b45aebdcd3797114a9c45"
     ]
    },
    "executionInfo": {
     "elapsed": 14786,
     "status": "ok",
     "timestamp": 1733916111331,
     "user": {
      "displayName": "이재원",
      "userId": "12576076454994383000"
     },
     "user_tz": -540
    },
    "id": "9131ea8c",
    "outputId": "0a3523e6-0fae-43ed-9f35-88b637f16763"
   },
   "outputs": [],
   "source": [
    "# [실습] 다음 코드를 완성하세요!!\n",
    "# 파인튜닝을 위한 Trainer 설정을 합니다. (model, train_dataset, args, peft_config, formatting_func)\n",
    "trainer = SFTTrainer(\n",
    "    model=model,\n",
    "    train_dataset=train_data,\n",
    "    args=training_args,\n",
    "    peft_config=lora_config,\n",
    "    formatting_func=generate_prompt,\n",
    "    processing_class=tokenizer,\n",
    ")"
   ]
  },
  {
   "cell_type": "code",
   "execution_count": 17,
   "id": "f2c6a3b5",
   "metadata": {
    "executionInfo": {
     "elapsed": 465,
     "status": "ok",
     "timestamp": 1733916129108,
     "user": {
      "displayName": "이재원",
      "userId": "12576076454994383000"
     },
     "user_tz": -540
    },
    "id": "f2c6a3b5"
   },
   "outputs": [],
   "source": [
    "def print_trainable_parameters(model):\n",
    "    \"\"\"\n",
    "    Prints the number of trainable parameters in the model.\n",
    "    \"\"\"\n",
    "    trainable_params = 0\n",
    "    all_param = 0\n",
    "    for _, param in model.named_parameters():\n",
    "        all_param += param.numel()\n",
    "        if param.requires_grad:\n",
    "            trainable_params += param.numel()\n",
    "    print(\n",
    "        f\"trainable params: {trainable_params} || all params: {all_param} || trainable%: {100 * trainable_params / all_param}\"\n",
    "    )"
   ]
  },
  {
   "cell_type": "markdown",
   "id": "5177a2ca",
   "metadata": {
    "id": "5177a2ca"
   },
   "source": [
    "LoRA 모델을 통해 학습 가능한 파라미터수는 전체 모델 파라미터(2,513,526,784)의 0.05% 수준입니다."
   ]
  },
  {
   "cell_type": "code",
   "execution_count": 18,
   "id": "091727e0",
   "metadata": {
    "colab": {
     "base_uri": "https://localhost:8080/"
    },
    "executionInfo": {
     "elapsed": 457,
     "status": "ok",
     "timestamp": 1733916134326,
     "user": {
      "displayName": "이재원",
      "userId": "12576076454994383000"
     },
     "user_tz": -540
    },
    "id": "091727e0",
    "outputId": "d07407bd-7469-4ca7-edec-aa3f765de6fc"
   },
   "outputs": [
    {
     "name": "stdout",
     "output_type": "stream",
     "text": [
      "trainable params: 1382400 || all params: 2507554816 || trainable%: 0.05512940300165307\n"
     ]
    }
   ],
   "source": [
    "print_trainable_parameters(model)"
   ]
  },
  {
   "cell_type": "markdown",
   "id": "ae8cb190",
   "metadata": {
    "id": "ae8cb190"
   },
   "source": [
    "1000 스텝 학습에 10분 정도 소요되니, TrainingArguments에서 **`max_steps`** 설정하실 때 참고하시기 바랍니다."
   ]
  },
  {
   "cell_type": "code",
   "execution_count": 19,
   "id": "e363f375",
   "metadata": {
    "colab": {
     "base_uri": "https://localhost:8080/",
     "height": 220
    },
    "executionInfo": {
     "elapsed": 607838,
     "status": "ok",
     "timestamp": 1733916757648,
     "user": {
      "displayName": "이재원",
      "userId": "12576076454994383000"
     },
     "user_tz": -540
    },
    "id": "e363f375",
    "outputId": "1f0741df-9032-4922-bd14-890d7149eafe"
   },
   "outputs": [
    {
     "data": {
      "text/html": [
       "\n",
       "    <div>\n",
       "      \n",
       "      <progress value='1000' max='1000' style='width:300px; height:20px; vertical-align: middle;'></progress>\n",
       "      [1000/1000 08:57, Epoch 0/1]\n",
       "    </div>\n",
       "    <table border=\"1\" class=\"dataframe\">\n",
       "  <thead>\n",
       " <tr style=\"text-align: left;\">\n",
       "      <th>Step</th>\n",
       "      <th>Training Loss</th>\n",
       "    </tr>\n",
       "  </thead>\n",
       "  <tbody>\n",
       "    <tr>\n",
       "      <td>100</td>\n",
       "      <td>1.928400</td>\n",
       "    </tr>\n",
       "    <tr>\n",
       "      <td>200</td>\n",
       "      <td>1.852400</td>\n",
       "    </tr>\n",
       "    <tr>\n",
       "      <td>300</td>\n",
       "      <td>1.834500</td>\n",
       "    </tr>\n",
       "    <tr>\n",
       "      <td>400</td>\n",
       "      <td>1.825100</td>\n",
       "    </tr>\n",
       "    <tr>\n",
       "      <td>500</td>\n",
       "      <td>1.823900</td>\n",
       "    </tr>\n",
       "    <tr>\n",
       "      <td>600</td>\n",
       "      <td>1.837900</td>\n",
       "    </tr>\n",
       "    <tr>\n",
       "      <td>700</td>\n",
       "      <td>1.846200</td>\n",
       "    </tr>\n",
       "    <tr>\n",
       "      <td>800</td>\n",
       "      <td>1.842000</td>\n",
       "    </tr>\n",
       "    <tr>\n",
       "      <td>900</td>\n",
       "      <td>1.838700</td>\n",
       "    </tr>\n",
       "    <tr>\n",
       "      <td>1000</td>\n",
       "      <td>1.825500</td>\n",
       "    </tr>\n",
       "  </tbody>\n",
       "</table><p>"
      ],
      "text/plain": [
       "<IPython.core.display.HTML object>"
      ]
     },
     "metadata": {},
     "output_type": "display_data"
    },
    {
     "data": {
      "text/plain": [
       "TrainOutput(global_step=1000, training_loss=1.8454728851318358, metrics={'train_runtime': 552.2234, 'train_samples_per_second': 7.243, 'train_steps_per_second': 1.811, 'total_flos': 1.4116651237736448e+16, 'train_loss': 1.8454728851318358})"
      ]
     },
     "execution_count": 19,
     "metadata": {},
     "output_type": "execute_result"
    }
   ],
   "source": [
    "trainer.train()"
   ]
  },
  {
   "cell_type": "markdown",
   "id": "f4ac41c7",
   "metadata": {
    "id": "f4ac41c7"
   },
   "source": [
    "학습된 LoRA Adapter 모델을 Local Directory 에 저장합니다."
   ]
  },
  {
   "cell_type": "code",
   "execution_count": null,
   "id": "b4bdff0c",
   "metadata": {
    "id": "b4bdff0c"
   },
   "outputs": [],
   "source": [
    "\"\"\"\n",
    "ADAPTER_MODEL = \"lora_adapter\"\n",
    "\n",
    "trainer.model.save_pretrained(ADAPTER_MODEL)\n",
    "\"\"\""
   ]
  },
  {
   "cell_type": "markdown",
   "id": "87b2a4c5",
   "metadata": {
    "id": "87b2a4c5"
   },
   "source": [
    "LoRA 학습된 weight을 원래 gemma-2b 모델과 합쳐 하나의 모델로 만들겠습니다."
   ]
  },
  {
   "cell_type": "code",
   "execution_count": null,
   "id": "55647df6",
   "metadata": {
    "id": "55647df6"
   },
   "outputs": [],
   "source": [
    "\"\"\"\n",
    "model = AutoModelForCausalLM.from_pretrained(BASE_MODEL, device_map='auto', torch_dtype=torch.bfloat16)\n",
    "# model = PeftModel.from_pretrained(model, ADAPTER_MODEL, device_map='auto', torch_dtype=torch.bfloat16)\n",
    "model.load_adapter(ADAPTER_MODEL)\n",
    "\n",
    "model = model.merge_and_unload()\n",
    "model.save_pretrained('gemma-2b-peft')\n",
    "\"\"\""
   ]
  },
  {
   "cell_type": "markdown",
   "id": "82132bc6",
   "metadata": {
    "id": "82132bc6"
   },
   "source": [
    "## 5. Model Inference"
   ]
  },
  {
   "cell_type": "markdown",
   "id": "8cda5add",
   "metadata": {
    "id": "8cda5add"
   },
   "source": [
    "파인튜닝된 모델을 이용하여 Generation 해 보도록 하겠습니다."
   ]
  },
  {
   "cell_type": "code",
   "execution_count": 20,
   "id": "815131ef",
   "metadata": {
    "executionInfo": {
     "elapsed": 1244,
     "status": "ok",
     "timestamp": 1733916775346,
     "user": {
      "displayName": "이재원",
      "userId": "12576076454994383000"
     },
     "user_tz": -540
    },
    "id": "815131ef"
   },
   "outputs": [
    {
     "name": "stderr",
     "output_type": "stream",
     "text": [
      "Device set to use cuda:0\n"
     ]
    }
   ],
   "source": [
    "pipe_finetuned = pipeline(\"text-generation\", model=model, tokenizer=tokenizer, max_new_tokens=512)"
   ]
  },
  {
   "cell_type": "code",
   "execution_count": 21,
   "id": "8c426e1f",
   "metadata": {
    "executionInfo": {
     "elapsed": 1000,
     "status": "ok",
     "timestamp": 1733916782387,
     "user": {
      "displayName": "이재원",
      "userId": "12576076454994383000"
     },
     "user_tz": -540
    },
    "id": "8c426e1f"
   },
   "outputs": [],
   "source": [
    "prompt = \"건강하게 살기 위한 세 가지 방법은?\"\n",
    "formatted_prompt = f\"### Question: {prompt}\\n\\n### Response:\""
   ]
  },
  {
   "cell_type": "code",
   "execution_count": 22,
   "id": "b2113616",
   "metadata": {
    "colab": {
     "base_uri": "https://localhost:8080/"
    },
    "executionInfo": {
     "elapsed": 7277,
     "status": "ok",
     "timestamp": 1733916798591,
     "user": {
      "displayName": "이재원",
      "userId": "12576076454994383000"
     },
     "user_tz": -540
    },
    "id": "b2113616",
    "outputId": "ec4f46e2-2d44-4044-b718-ff6a4465c447"
   },
   "outputs": [
    {
     "name": "stdout",
     "output_type": "stream",
     "text": [
      " 1. 체중 관리\n",
      "체중을 조절하는 것은 건강한 생활을 유지하기 위해서 가장 중요합니다. 적정 체중을 유지하면 혈압이 안 좋아져서 심장질환이나 당뇨병 등의 질병을 예방할 수 있습니다. 또한, 비만으로 인해 발생하는 여러 가지 문제를 해결할 수 있고, 운동과 식사조절을 통해 체중을 조절할 수 있습니다.\n",
      "\n",
      "2. 스트레스 관리\n",
      "스트레스는 건강에 부정적인 영향을 미치므로, 스트레스를 줄이는 것이 중요합니다. 스트레스를 줄이려면 우선적으로 자아존중감을 높여야 합니다. 이와 함께 정신적, 신체적 활동을 통해 스트레스를 완화시키며, 긍정적인 생각을 바르게 하여 스트레스를 감소시킬 수 있습니다.\n",
      "\n",
      "3. 휴식 및 여가 활동\n",
      "휴식 및 여가 활동은 건강한 생활을 유지하는데 있어 매우 중요합니다. 휴식은 피로를 없애고, 신체적, 정신적 회복을 도모하며, 몸과 마음을 즐겁게 하는 데 큰 역할을 합니다. 여가 활동은 육체적, 정신적 건강을 증진시켜주며, 사회적 관계를 형성하고, 새로운 경험을 맛보는 기회를 제공합니다.\n"
     ]
    }
   ],
   "source": [
    "outputs = pipe_finetuned(\n",
    "    formatted_prompt,\n",
    "    do_sample=True,\n",
    "    temperature=0.2,\n",
    "    top_k=50,\n",
    "    top_p=0.95,\n",
    "    repetition_penalty=1.2,\n",
    ")\n",
    "print(outputs[0][\"generated_text\"][len(formatted_prompt):])"
   ]
  },
  {
   "cell_type": "markdown",
   "id": "e94b7c57",
   "metadata": {
    "id": "e94b7c57"
   },
   "source": [
    "- Ref. https://huggingface.co/docs/peft/main/en/task_guides/token-classification-lora"
   ]
  }
 ],
 "metadata": {
  "accelerator": "GPU",
  "colab": {
   "gpuType": "T4",
   "provenance": []
  },
  "kernelspec": {
   "display_name": "Python 3 (ipykernel)",
   "language": "python",
   "name": "python3"
  },
  "language_info": {
   "codemirror_mode": {
    "name": "ipython",
    "version": 3
   },
   "file_extension": ".py",
   "mimetype": "text/x-python",
   "name": "python",
   "nbconvert_exporter": "python",
   "pygments_lexer": "ipython3",
   "version": "3.12.8"
  },
  "widgets": {
   "application/vnd.jupyter.widget-state+json": {
    "00106292ae4f46798aefb97c19b8e97c": {
     "model_module": "@jupyter-widgets/controls",
     "model_module_version": "1.5.0",
     "model_name": "ProgressStyleModel",
     "state": {
      "_model_module": "@jupyter-widgets/controls",
      "_model_module_version": "1.5.0",
      "_model_name": "ProgressStyleModel",
      "_view_count": null,
      "_view_module": "@jupyter-widgets/base",
      "_view_module_version": "1.2.0",
      "_view_name": "StyleView",
      "bar_color": null,
      "description_width": ""
     }
    },
    "0402b6c702694940910e17e15b35d347": {
     "model_module": "@jupyter-widgets/base",
     "model_module_version": "1.2.0",
     "model_name": "LayoutModel",
     "state": {
      "_model_module": "@jupyter-widgets/base",
      "_model_module_version": "1.2.0",
      "_model_name": "LayoutModel",
      "_view_count": null,
      "_view_module": "@jupyter-widgets/base",
      "_view_module_version": "1.2.0",
      "_view_name": "LayoutView",
      "align_content": null,
      "align_items": null,
      "align_self": null,
      "border": null,
      "bottom": null,
      "display": null,
      "flex": null,
      "flex_flow": null,
      "grid_area": null,
      "grid_auto_columns": null,
      "grid_auto_flow": null,
      "grid_auto_rows": null,
      "grid_column": null,
      "grid_gap": null,
      "grid_row": null,
      "grid_template_areas": null,
      "grid_template_columns": null,
      "grid_template_rows": null,
      "height": null,
      "justify_content": null,
      "justify_items": null,
      "left": null,
      "margin": null,
      "max_height": null,
      "max_width": null,
      "min_height": null,
      "min_width": null,
      "object_fit": null,
      "object_position": null,
      "order": null,
      "overflow": null,
      "overflow_x": null,
      "overflow_y": null,
      "padding": null,
      "right": null,
      "top": null,
      "visibility": null,
      "width": null
     }
    },
    "096f23d564e143b3896089b9d88fa163": {
     "model_module": "@jupyter-widgets/controls",
     "model_module_version": "1.5.0",
     "model_name": "FloatProgressModel",
     "state": {
      "_dom_classes": [],
      "_model_module": "@jupyter-widgets/controls",
      "_model_module_version": "1.5.0",
      "_model_name": "FloatProgressModel",
      "_view_count": null,
      "_view_module": "@jupyter-widgets/controls",
      "_view_module_version": "1.5.0",
      "_view_name": "ProgressView",
      "bar_style": "success",
      "description": "",
      "description_tooltip": null,
      "layout": "IPY_MODEL_9a72129d93a541c78c6047ffdf11b1da",
      "max": 21155,
      "min": 0,
      "orientation": "horizontal",
      "style": "IPY_MODEL_b2a79166b13c4965844fb42a6bf41ca9",
      "value": 21155
     }
    },
    "0d4e45675c56455783ef6f08da8817ab": {
     "model_module": "@jupyter-widgets/controls",
     "model_module_version": "1.5.0",
     "model_name": "HBoxModel",
     "state": {
      "_dom_classes": [],
      "_model_module": "@jupyter-widgets/controls",
      "_model_module_version": "1.5.0",
      "_model_name": "HBoxModel",
      "_view_count": null,
      "_view_module": "@jupyter-widgets/controls",
      "_view_module_version": "1.5.0",
      "_view_name": "HBoxView",
      "box_style": "",
      "children": [
       "IPY_MODEL_2fd66bb8e4444b49aa875a04733644fe",
       "IPY_MODEL_832965b689fa41ffb8d3d76036dce4d9",
       "IPY_MODEL_db47536f0ccc47b0bfddee281fe22edd"
      ],
      "layout": "IPY_MODEL_9497268626ad438499696cb65f789377"
     }
    },
    "129eaac1c2ca423088a58679ac4d53d8": {
     "model_module": "@jupyter-widgets/controls",
     "model_module_version": "1.5.0",
     "model_name": "HTMLModel",
     "state": {
      "_dom_classes": [],
      "_model_module": "@jupyter-widgets/controls",
      "_model_module_version": "1.5.0",
      "_model_name": "HTMLModel",
      "_view_count": null,
      "_view_module": "@jupyter-widgets/controls",
      "_view_module_version": "1.5.0",
      "_view_name": "HTMLView",
      "description": "",
      "description_tooltip": null,
      "layout": "IPY_MODEL_eb533dc5bdde46a7890a3ac32fce2f3d",
      "placeholder": "​",
      "style": "IPY_MODEL_f05a94f36bee4079bf6e473184b8a3ec",
      "value": "Map: 100%"
     }
    },
    "2694e7bbe66b4cb4a0b07817add9ede5": {
     "model_module": "@jupyter-widgets/controls",
     "model_module_version": "1.5.0",
     "model_name": "DescriptionStyleModel",
     "state": {
      "_model_module": "@jupyter-widgets/controls",
      "_model_module_version": "1.5.0",
      "_model_name": "DescriptionStyleModel",
      "_view_count": null,
      "_view_module": "@jupyter-widgets/base",
      "_view_module_version": "1.2.0",
      "_view_name": "StyleView",
      "description_width": ""
     }
    },
    "2a5d1a7cd30c46ac88c3464528c94b77": {
     "model_module": "@jupyter-widgets/base",
     "model_module_version": "1.2.0",
     "model_name": "LayoutModel",
     "state": {
      "_model_module": "@jupyter-widgets/base",
      "_model_module_version": "1.2.0",
      "_model_name": "LayoutModel",
      "_view_count": null,
      "_view_module": "@jupyter-widgets/base",
      "_view_module_version": "1.2.0",
      "_view_name": "LayoutView",
      "align_content": null,
      "align_items": null,
      "align_self": null,
      "border": null,
      "bottom": null,
      "display": null,
      "flex": null,
      "flex_flow": null,
      "grid_area": null,
      "grid_auto_columns": null,
      "grid_auto_flow": null,
      "grid_auto_rows": null,
      "grid_column": null,
      "grid_gap": null,
      "grid_row": null,
      "grid_template_areas": null,
      "grid_template_columns": null,
      "grid_template_rows": null,
      "height": null,
      "justify_content": null,
      "justify_items": null,
      "left": null,
      "margin": null,
      "max_height": null,
      "max_width": null,
      "min_height": null,
      "min_width": null,
      "object_fit": null,
      "object_position": null,
      "order": null,
      "overflow": null,
      "overflow_x": null,
      "overflow_y": null,
      "padding": null,
      "right": null,
      "top": null,
      "visibility": null,
      "width": null
     }
    },
    "2c02755d651e4d9b94f2da93350111ec": {
     "model_module": "@jupyter-widgets/base",
     "model_module_version": "1.2.0",
     "model_name": "LayoutModel",
     "state": {
      "_model_module": "@jupyter-widgets/base",
      "_model_module_version": "1.2.0",
      "_model_name": "LayoutModel",
      "_view_count": null,
      "_view_module": "@jupyter-widgets/base",
      "_view_module_version": "1.2.0",
      "_view_name": "LayoutView",
      "align_content": null,
      "align_items": null,
      "align_self": null,
      "border": null,
      "bottom": null,
      "display": null,
      "flex": null,
      "flex_flow": null,
      "grid_area": null,
      "grid_auto_columns": null,
      "grid_auto_flow": null,
      "grid_auto_rows": null,
      "grid_column": null,
      "grid_gap": null,
      "grid_row": null,
      "grid_template_areas": null,
      "grid_template_columns": null,
      "grid_template_rows": null,
      "height": null,
      "justify_content": null,
      "justify_items": null,
      "left": null,
      "margin": null,
      "max_height": null,
      "max_width": null,
      "min_height": null,
      "min_width": null,
      "object_fit": null,
      "object_position": null,
      "order": null,
      "overflow": null,
      "overflow_x": null,
      "overflow_y": null,
      "padding": null,
      "right": null,
      "top": null,
      "visibility": null,
      "width": null
     }
    },
    "2fd66bb8e4444b49aa875a04733644fe": {
     "model_module": "@jupyter-widgets/controls",
     "model_module_version": "1.5.0",
     "model_name": "HTMLModel",
     "state": {
      "_dom_classes": [],
      "_model_module": "@jupyter-widgets/controls",
      "_model_module_version": "1.5.0",
      "_model_name": "HTMLModel",
      "_view_count": null,
      "_view_module": "@jupyter-widgets/controls",
      "_view_module_version": "1.5.0",
      "_view_name": "HTMLView",
      "description": "",
      "description_tooltip": null,
      "layout": "IPY_MODEL_8b3d98bd62264bb581630d27e8d424a0",
      "placeholder": "​",
      "style": "IPY_MODEL_67a8d1427aa94208b98ff14149f32bbb",
      "value": "Loading checkpoint shards: 100%"
     }
    },
    "3c8e2d70a92b4af4845fb6da2e3e4293": {
     "model_module": "@jupyter-widgets/base",
     "model_module_version": "1.2.0",
     "model_name": "LayoutModel",
     "state": {
      "_model_module": "@jupyter-widgets/base",
      "_model_module_version": "1.2.0",
      "_model_name": "LayoutModel",
      "_view_count": null,
      "_view_module": "@jupyter-widgets/base",
      "_view_module_version": "1.2.0",
      "_view_name": "LayoutView",
      "align_content": null,
      "align_items": null,
      "align_self": null,
      "border": null,
      "bottom": null,
      "display": null,
      "flex": null,
      "flex_flow": null,
      "grid_area": null,
      "grid_auto_columns": null,
      "grid_auto_flow": null,
      "grid_auto_rows": null,
      "grid_column": null,
      "grid_gap": null,
      "grid_row": null,
      "grid_template_areas": null,
      "grid_template_columns": null,
      "grid_template_rows": null,
      "height": null,
      "justify_content": null,
      "justify_items": null,
      "left": null,
      "margin": null,
      "max_height": null,
      "max_width": null,
      "min_height": null,
      "min_width": null,
      "object_fit": null,
      "object_position": null,
      "order": null,
      "overflow": null,
      "overflow_x": null,
      "overflow_y": null,
      "padding": null,
      "right": null,
      "top": null,
      "visibility": null,
      "width": null
     }
    },
    "47c3683ad1454e75b31f881f6a7035a3": {
     "model_module": "@jupyter-widgets/controls",
     "model_module_version": "1.5.0",
     "model_name": "HBoxModel",
     "state": {
      "_dom_classes": [],
      "_model_module": "@jupyter-widgets/controls",
      "_model_module_version": "1.5.0",
      "_model_name": "HBoxModel",
      "_view_count": null,
      "_view_module": "@jupyter-widgets/controls",
      "_view_module_version": "1.5.0",
      "_view_name": "HBoxView",
      "box_style": "",
      "children": [
       "IPY_MODEL_129eaac1c2ca423088a58679ac4d53d8",
       "IPY_MODEL_096f23d564e143b3896089b9d88fa163",
       "IPY_MODEL_81b7e21e0f50411da3e64e703bd15660"
      ],
      "layout": "IPY_MODEL_94509a0dfb35487b98a2a51b3c299ade"
     }
    },
    "5cfd2886e6ab4f8b80ec481299bcd3b3": {
     "model_module": "@jupyter-widgets/base",
     "model_module_version": "1.2.0",
     "model_name": "LayoutModel",
     "state": {
      "_model_module": "@jupyter-widgets/base",
      "_model_module_version": "1.2.0",
      "_model_name": "LayoutModel",
      "_view_count": null,
      "_view_module": "@jupyter-widgets/base",
      "_view_module_version": "1.2.0",
      "_view_name": "LayoutView",
      "align_content": null,
      "align_items": null,
      "align_self": null,
      "border": null,
      "bottom": null,
      "display": null,
      "flex": null,
      "flex_flow": null,
      "grid_area": null,
      "grid_auto_columns": null,
      "grid_auto_flow": null,
      "grid_auto_rows": null,
      "grid_column": null,
      "grid_gap": null,
      "grid_row": null,
      "grid_template_areas": null,
      "grid_template_columns": null,
      "grid_template_rows": null,
      "height": null,
      "justify_content": null,
      "justify_items": null,
      "left": null,
      "margin": null,
      "max_height": null,
      "max_width": null,
      "min_height": null,
      "min_width": null,
      "object_fit": null,
      "object_position": null,
      "order": null,
      "overflow": null,
      "overflow_x": null,
      "overflow_y": null,
      "padding": null,
      "right": null,
      "top": null,
      "visibility": null,
      "width": null
     }
    },
    "5e71ebb4c6bc49d2983bf2f1776d47bf": {
     "model_module": "@jupyter-widgets/controls",
     "model_module_version": "1.5.0",
     "model_name": "ButtonStyleModel",
     "state": {
      "_model_module": "@jupyter-widgets/controls",
      "_model_module_version": "1.5.0",
      "_model_name": "ButtonStyleModel",
      "_view_count": null,
      "_view_module": "@jupyter-widgets/base",
      "_view_module_version": "1.2.0",
      "_view_name": "StyleView",
      "button_color": null,
      "font_weight": ""
     }
    },
    "5f4c3792321f4f21ba74e807b8bd228a": {
     "model_module": "@jupyter-widgets/base",
     "model_module_version": "1.2.0",
     "model_name": "LayoutModel",
     "state": {
      "_model_module": "@jupyter-widgets/base",
      "_model_module_version": "1.2.0",
      "_model_name": "LayoutModel",
      "_view_count": null,
      "_view_module": "@jupyter-widgets/base",
      "_view_module_version": "1.2.0",
      "_view_name": "LayoutView",
      "align_content": null,
      "align_items": "center",
      "align_self": null,
      "border": null,
      "bottom": null,
      "display": "flex",
      "flex": null,
      "flex_flow": "column",
      "grid_area": null,
      "grid_auto_columns": null,
      "grid_auto_flow": null,
      "grid_auto_rows": null,
      "grid_column": null,
      "grid_gap": null,
      "grid_row": null,
      "grid_template_areas": null,
      "grid_template_columns": null,
      "grid_template_rows": null,
      "height": null,
      "justify_content": null,
      "justify_items": null,
      "left": null,
      "margin": null,
      "max_height": null,
      "max_width": null,
      "min_height": null,
      "min_width": null,
      "object_fit": null,
      "object_position": null,
      "order": null,
      "overflow": null,
      "overflow_x": null,
      "overflow_y": null,
      "padding": null,
      "right": null,
      "top": null,
      "visibility": null,
      "width": "50%"
     }
    },
    "60c42944647545358f3854971048f3ba": {
     "model_module": "@jupyter-widgets/base",
     "model_module_version": "1.2.0",
     "model_name": "LayoutModel",
     "state": {
      "_model_module": "@jupyter-widgets/base",
      "_model_module_version": "1.2.0",
      "_model_name": "LayoutModel",
      "_view_count": null,
      "_view_module": "@jupyter-widgets/base",
      "_view_module_version": "1.2.0",
      "_view_name": "LayoutView",
      "align_content": null,
      "align_items": null,
      "align_self": null,
      "border": null,
      "bottom": null,
      "display": null,
      "flex": null,
      "flex_flow": null,
      "grid_area": null,
      "grid_auto_columns": null,
      "grid_auto_flow": null,
      "grid_auto_rows": null,
      "grid_column": null,
      "grid_gap": null,
      "grid_row": null,
      "grid_template_areas": null,
      "grid_template_columns": null,
      "grid_template_rows": null,
      "height": null,
      "justify_content": null,
      "justify_items": null,
      "left": null,
      "margin": null,
      "max_height": null,
      "max_width": null,
      "min_height": null,
      "min_width": null,
      "object_fit": null,
      "object_position": null,
      "order": null,
      "overflow": null,
      "overflow_x": null,
      "overflow_y": null,
      "padding": null,
      "right": null,
      "top": null,
      "visibility": null,
      "width": null
     }
    },
    "60cc5b37d0a34ee4899d0d1284177f49": {
     "model_module": "@jupyter-widgets/controls",
     "model_module_version": "1.5.0",
     "model_name": "DescriptionStyleModel",
     "state": {
      "_model_module": "@jupyter-widgets/controls",
      "_model_module_version": "1.5.0",
      "_model_name": "DescriptionStyleModel",
      "_view_count": null,
      "_view_module": "@jupyter-widgets/base",
      "_view_module_version": "1.2.0",
      "_view_name": "StyleView",
      "description_width": ""
     }
    },
    "6389b2378cdd484a9722cb9ea389a37d": {
     "model_module": "@jupyter-widgets/controls",
     "model_module_version": "1.5.0",
     "model_name": "VBoxModel",
     "state": {
      "_dom_classes": [],
      "_model_module": "@jupyter-widgets/controls",
      "_model_module_version": "1.5.0",
      "_model_name": "VBoxModel",
      "_view_count": null,
      "_view_module": "@jupyter-widgets/controls",
      "_view_module_version": "1.5.0",
      "_view_name": "VBoxView",
      "box_style": "",
      "children": [],
      "layout": "IPY_MODEL_5f4c3792321f4f21ba74e807b8bd228a"
     }
    },
    "67a8d1427aa94208b98ff14149f32bbb": {
     "model_module": "@jupyter-widgets/controls",
     "model_module_version": "1.5.0",
     "model_name": "DescriptionStyleModel",
     "state": {
      "_model_module": "@jupyter-widgets/controls",
      "_model_module_version": "1.5.0",
      "_model_name": "DescriptionStyleModel",
      "_view_count": null,
      "_view_module": "@jupyter-widgets/base",
      "_view_module_version": "1.2.0",
      "_view_name": "StyleView",
      "description_width": ""
     }
    },
    "81b7e21e0f50411da3e64e703bd15660": {
     "model_module": "@jupyter-widgets/controls",
     "model_module_version": "1.5.0",
     "model_name": "HTMLModel",
     "state": {
      "_dom_classes": [],
      "_model_module": "@jupyter-widgets/controls",
      "_model_module_version": "1.5.0",
      "_model_name": "HTMLModel",
      "_view_count": null,
      "_view_module": "@jupyter-widgets/controls",
      "_view_module_version": "1.5.0",
      "_view_name": "HTMLView",
      "description": "",
      "description_tooltip": null,
      "layout": "IPY_MODEL_e77ea180595b4568a297aedb8af2b544",
      "placeholder": "​",
      "style": "IPY_MODEL_831ccbb8661b45aebdcd3797114a9c45",
      "value": " 21155/21155 [00:12&lt;00:00, 1517.04 examples/s]"
     }
    },
    "831ccbb8661b45aebdcd3797114a9c45": {
     "model_module": "@jupyter-widgets/controls",
     "model_module_version": "1.5.0",
     "model_name": "DescriptionStyleModel",
     "state": {
      "_model_module": "@jupyter-widgets/controls",
      "_model_module_version": "1.5.0",
      "_model_name": "DescriptionStyleModel",
      "_view_count": null,
      "_view_module": "@jupyter-widgets/base",
      "_view_module_version": "1.2.0",
      "_view_name": "StyleView",
      "description_width": ""
     }
    },
    "832965b689fa41ffb8d3d76036dce4d9": {
     "model_module": "@jupyter-widgets/controls",
     "model_module_version": "1.5.0",
     "model_name": "FloatProgressModel",
     "state": {
      "_dom_classes": [],
      "_model_module": "@jupyter-widgets/controls",
      "_model_module_version": "1.5.0",
      "_model_name": "FloatProgressModel",
      "_view_count": null,
      "_view_module": "@jupyter-widgets/controls",
      "_view_module_version": "1.5.0",
      "_view_name": "ProgressView",
      "bar_style": "success",
      "description": "",
      "description_tooltip": null,
      "layout": "IPY_MODEL_0402b6c702694940910e17e15b35d347",
      "max": 2,
      "min": 0,
      "orientation": "horizontal",
      "style": "IPY_MODEL_00106292ae4f46798aefb97c19b8e97c",
      "value": 2
     }
    },
    "8b3d98bd62264bb581630d27e8d424a0": {
     "model_module": "@jupyter-widgets/base",
     "model_module_version": "1.2.0",
     "model_name": "LayoutModel",
     "state": {
      "_model_module": "@jupyter-widgets/base",
      "_model_module_version": "1.2.0",
      "_model_name": "LayoutModel",
      "_view_count": null,
      "_view_module": "@jupyter-widgets/base",
      "_view_module_version": "1.2.0",
      "_view_name": "LayoutView",
      "align_content": null,
      "align_items": null,
      "align_self": null,
      "border": null,
      "bottom": null,
      "display": null,
      "flex": null,
      "flex_flow": null,
      "grid_area": null,
      "grid_auto_columns": null,
      "grid_auto_flow": null,
      "grid_auto_rows": null,
      "grid_column": null,
      "grid_gap": null,
      "grid_row": null,
      "grid_template_areas": null,
      "grid_template_columns": null,
      "grid_template_rows": null,
      "height": null,
      "justify_content": null,
      "justify_items": null,
      "left": null,
      "margin": null,
      "max_height": null,
      "max_width": null,
      "min_height": null,
      "min_width": null,
      "object_fit": null,
      "object_position": null,
      "order": null,
      "overflow": null,
      "overflow_x": null,
      "overflow_y": null,
      "padding": null,
      "right": null,
      "top": null,
      "visibility": null,
      "width": null
     }
    },
    "8b8630ce3e5849dea7b670375906e930": {
     "model_module": "@jupyter-widgets/controls",
     "model_module_version": "1.5.0",
     "model_name": "DescriptionStyleModel",
     "state": {
      "_model_module": "@jupyter-widgets/controls",
      "_model_module_version": "1.5.0",
      "_model_name": "DescriptionStyleModel",
      "_view_count": null,
      "_view_module": "@jupyter-widgets/base",
      "_view_module_version": "1.2.0",
      "_view_name": "StyleView",
      "description_width": ""
     }
    },
    "90556d7833994077996c0ce584429e23": {
     "model_module": "@jupyter-widgets/controls",
     "model_module_version": "1.5.0",
     "model_name": "ButtonModel",
     "state": {
      "_dom_classes": [],
      "_model_module": "@jupyter-widgets/controls",
      "_model_module_version": "1.5.0",
      "_model_name": "ButtonModel",
      "_view_count": null,
      "_view_module": "@jupyter-widgets/controls",
      "_view_module_version": "1.5.0",
      "_view_name": "ButtonView",
      "button_style": "",
      "description": "Login",
      "disabled": false,
      "icon": "",
      "layout": "IPY_MODEL_5cfd2886e6ab4f8b80ec481299bcd3b3",
      "style": "IPY_MODEL_5e71ebb4c6bc49d2983bf2f1776d47bf",
      "tooltip": ""
     }
    },
    "94509a0dfb35487b98a2a51b3c299ade": {
     "model_module": "@jupyter-widgets/base",
     "model_module_version": "1.2.0",
     "model_name": "LayoutModel",
     "state": {
      "_model_module": "@jupyter-widgets/base",
      "_model_module_version": "1.2.0",
      "_model_name": "LayoutModel",
      "_view_count": null,
      "_view_module": "@jupyter-widgets/base",
      "_view_module_version": "1.2.0",
      "_view_name": "LayoutView",
      "align_content": null,
      "align_items": null,
      "align_self": null,
      "border": null,
      "bottom": null,
      "display": null,
      "flex": null,
      "flex_flow": null,
      "grid_area": null,
      "grid_auto_columns": null,
      "grid_auto_flow": null,
      "grid_auto_rows": null,
      "grid_column": null,
      "grid_gap": null,
      "grid_row": null,
      "grid_template_areas": null,
      "grid_template_columns": null,
      "grid_template_rows": null,
      "height": null,
      "justify_content": null,
      "justify_items": null,
      "left": null,
      "margin": null,
      "max_height": null,
      "max_width": null,
      "min_height": null,
      "min_width": null,
      "object_fit": null,
      "object_position": null,
      "order": null,
      "overflow": null,
      "overflow_x": null,
      "overflow_y": null,
      "padding": null,
      "right": null,
      "top": null,
      "visibility": null,
      "width": null
     }
    },
    "9497268626ad438499696cb65f789377": {
     "model_module": "@jupyter-widgets/base",
     "model_module_version": "1.2.0",
     "model_name": "LayoutModel",
     "state": {
      "_model_module": "@jupyter-widgets/base",
      "_model_module_version": "1.2.0",
      "_model_name": "LayoutModel",
      "_view_count": null,
      "_view_module": "@jupyter-widgets/base",
      "_view_module_version": "1.2.0",
      "_view_name": "LayoutView",
      "align_content": null,
      "align_items": null,
      "align_self": null,
      "border": null,
      "bottom": null,
      "display": null,
      "flex": null,
      "flex_flow": null,
      "grid_area": null,
      "grid_auto_columns": null,
      "grid_auto_flow": null,
      "grid_auto_rows": null,
      "grid_column": null,
      "grid_gap": null,
      "grid_row": null,
      "grid_template_areas": null,
      "grid_template_columns": null,
      "grid_template_rows": null,
      "height": null,
      "justify_content": null,
      "justify_items": null,
      "left": null,
      "margin": null,
      "max_height": null,
      "max_width": null,
      "min_height": null,
      "min_width": null,
      "object_fit": null,
      "object_position": null,
      "order": null,
      "overflow": null,
      "overflow_x": null,
      "overflow_y": null,
      "padding": null,
      "right": null,
      "top": null,
      "visibility": null,
      "width": null
     }
    },
    "9a72129d93a541c78c6047ffdf11b1da": {
     "model_module": "@jupyter-widgets/base",
     "model_module_version": "1.2.0",
     "model_name": "LayoutModel",
     "state": {
      "_model_module": "@jupyter-widgets/base",
      "_model_module_version": "1.2.0",
      "_model_name": "LayoutModel",
      "_view_count": null,
      "_view_module": "@jupyter-widgets/base",
      "_view_module_version": "1.2.0",
      "_view_name": "LayoutView",
      "align_content": null,
      "align_items": null,
      "align_self": null,
      "border": null,
      "bottom": null,
      "display": null,
      "flex": null,
      "flex_flow": null,
      "grid_area": null,
      "grid_auto_columns": null,
      "grid_auto_flow": null,
      "grid_auto_rows": null,
      "grid_column": null,
      "grid_gap": null,
      "grid_row": null,
      "grid_template_areas": null,
      "grid_template_columns": null,
      "grid_template_rows": null,
      "height": null,
      "justify_content": null,
      "justify_items": null,
      "left": null,
      "margin": null,
      "max_height": null,
      "max_width": null,
      "min_height": null,
      "min_width": null,
      "object_fit": null,
      "object_position": null,
      "order": null,
      "overflow": null,
      "overflow_x": null,
      "overflow_y": null,
      "padding": null,
      "right": null,
      "top": null,
      "visibility": null,
      "width": null
     }
    },
    "a09a45b0c970404d931193ea070d3074": {
     "model_module": "@jupyter-widgets/base",
     "model_module_version": "1.2.0",
     "model_name": "LayoutModel",
     "state": {
      "_model_module": "@jupyter-widgets/base",
      "_model_module_version": "1.2.0",
      "_model_name": "LayoutModel",
      "_view_count": null,
      "_view_module": "@jupyter-widgets/base",
      "_view_module_version": "1.2.0",
      "_view_name": "LayoutView",
      "align_content": null,
      "align_items": null,
      "align_self": null,
      "border": null,
      "bottom": null,
      "display": null,
      "flex": null,
      "flex_flow": null,
      "grid_area": null,
      "grid_auto_columns": null,
      "grid_auto_flow": null,
      "grid_auto_rows": null,
      "grid_column": null,
      "grid_gap": null,
      "grid_row": null,
      "grid_template_areas": null,
      "grid_template_columns": null,
      "grid_template_rows": null,
      "height": null,
      "justify_content": null,
      "justify_items": null,
      "left": null,
      "margin": null,
      "max_height": null,
      "max_width": null,
      "min_height": null,
      "min_width": null,
      "object_fit": null,
      "object_position": null,
      "order": null,
      "overflow": null,
      "overflow_x": null,
      "overflow_y": null,
      "padding": null,
      "right": null,
      "top": null,
      "visibility": null,
      "width": null
     }
    },
    "b2a79166b13c4965844fb42a6bf41ca9": {
     "model_module": "@jupyter-widgets/controls",
     "model_module_version": "1.5.0",
     "model_name": "ProgressStyleModel",
     "state": {
      "_model_module": "@jupyter-widgets/controls",
      "_model_module_version": "1.5.0",
      "_model_name": "ProgressStyleModel",
      "_view_count": null,
      "_view_module": "@jupyter-widgets/base",
      "_view_module_version": "1.2.0",
      "_view_name": "StyleView",
      "bar_color": null,
      "description_width": ""
     }
    },
    "b7607f320b8448b09a1cc767b66fd0b8": {
     "model_module": "@jupyter-widgets/controls",
     "model_module_version": "1.5.0",
     "model_name": "LabelModel",
     "state": {
      "_dom_classes": [],
      "_model_module": "@jupyter-widgets/controls",
      "_model_module_version": "1.5.0",
      "_model_name": "LabelModel",
      "_view_count": null,
      "_view_module": "@jupyter-widgets/controls",
      "_view_module_version": "1.5.0",
      "_view_name": "LabelView",
      "description": "",
      "description_tooltip": null,
      "layout": "IPY_MODEL_3c8e2d70a92b4af4845fb6da2e3e4293",
      "placeholder": "​",
      "style": "IPY_MODEL_dcc6b4cc836c469abeab1ea2ea467c6c",
      "value": "Connecting..."
     }
    },
    "ba4ebcee51b5487caf3522a258893141": {
     "model_module": "@jupyter-widgets/controls",
     "model_module_version": "1.5.0",
     "model_name": "CheckboxModel",
     "state": {
      "_dom_classes": [],
      "_model_module": "@jupyter-widgets/controls",
      "_model_module_version": "1.5.0",
      "_model_name": "CheckboxModel",
      "_view_count": null,
      "_view_module": "@jupyter-widgets/controls",
      "_view_module_version": "1.5.0",
      "_view_name": "CheckboxView",
      "description": "Add token as git credential?",
      "description_tooltip": null,
      "disabled": false,
      "indent": true,
      "layout": "IPY_MODEL_60c42944647545358f3854971048f3ba",
      "style": "IPY_MODEL_d6666adcc4ba411e9552c6591610a7c3",
      "value": true
     }
    },
    "c74a2baa6c824412ad7050123e0bca79": {
     "model_module": "@jupyter-widgets/controls",
     "model_module_version": "1.5.0",
     "model_name": "PasswordModel",
     "state": {
      "_dom_classes": [],
      "_model_module": "@jupyter-widgets/controls",
      "_model_module_version": "1.5.0",
      "_model_name": "PasswordModel",
      "_view_count": null,
      "_view_module": "@jupyter-widgets/controls",
      "_view_module_version": "1.5.0",
      "_view_name": "PasswordView",
      "continuous_update": true,
      "description": "Token:",
      "description_tooltip": null,
      "disabled": false,
      "layout": "IPY_MODEL_dcbb2c7f209c486a912325e0502e654f",
      "placeholder": "​",
      "style": "IPY_MODEL_fdd64eb69f3f4dafb841b8bf6dd1348a",
      "value": ""
     }
    },
    "d6666adcc4ba411e9552c6591610a7c3": {
     "model_module": "@jupyter-widgets/controls",
     "model_module_version": "1.5.0",
     "model_name": "DescriptionStyleModel",
     "state": {
      "_model_module": "@jupyter-widgets/controls",
      "_model_module_version": "1.5.0",
      "_model_name": "DescriptionStyleModel",
      "_view_count": null,
      "_view_module": "@jupyter-widgets/base",
      "_view_module_version": "1.2.0",
      "_view_name": "StyleView",
      "description_width": ""
     }
    },
    "db47536f0ccc47b0bfddee281fe22edd": {
     "model_module": "@jupyter-widgets/controls",
     "model_module_version": "1.5.0",
     "model_name": "HTMLModel",
     "state": {
      "_dom_classes": [],
      "_model_module": "@jupyter-widgets/controls",
      "_model_module_version": "1.5.0",
      "_model_name": "HTMLModel",
      "_view_count": null,
      "_view_module": "@jupyter-widgets/controls",
      "_view_module_version": "1.5.0",
      "_view_name": "HTMLView",
      "description": "",
      "description_tooltip": null,
      "layout": "IPY_MODEL_2a5d1a7cd30c46ac88c3464528c94b77",
      "placeholder": "​",
      "style": "IPY_MODEL_60cc5b37d0a34ee4899d0d1284177f49",
      "value": " 2/2 [00:22&lt;00:00,  9.59s/it]"
     }
    },
    "dcbb2c7f209c486a912325e0502e654f": {
     "model_module": "@jupyter-widgets/base",
     "model_module_version": "1.2.0",
     "model_name": "LayoutModel",
     "state": {
      "_model_module": "@jupyter-widgets/base",
      "_model_module_version": "1.2.0",
      "_model_name": "LayoutModel",
      "_view_count": null,
      "_view_module": "@jupyter-widgets/base",
      "_view_module_version": "1.2.0",
      "_view_name": "LayoutView",
      "align_content": null,
      "align_items": null,
      "align_self": null,
      "border": null,
      "bottom": null,
      "display": null,
      "flex": null,
      "flex_flow": null,
      "grid_area": null,
      "grid_auto_columns": null,
      "grid_auto_flow": null,
      "grid_auto_rows": null,
      "grid_column": null,
      "grid_gap": null,
      "grid_row": null,
      "grid_template_areas": null,
      "grid_template_columns": null,
      "grid_template_rows": null,
      "height": null,
      "justify_content": null,
      "justify_items": null,
      "left": null,
      "margin": null,
      "max_height": null,
      "max_width": null,
      "min_height": null,
      "min_width": null,
      "object_fit": null,
      "object_position": null,
      "order": null,
      "overflow": null,
      "overflow_x": null,
      "overflow_y": null,
      "padding": null,
      "right": null,
      "top": null,
      "visibility": null,
      "width": null
     }
    },
    "dcc6b4cc836c469abeab1ea2ea467c6c": {
     "model_module": "@jupyter-widgets/controls",
     "model_module_version": "1.5.0",
     "model_name": "DescriptionStyleModel",
     "state": {
      "_model_module": "@jupyter-widgets/controls",
      "_model_module_version": "1.5.0",
      "_model_name": "DescriptionStyleModel",
      "_view_count": null,
      "_view_module": "@jupyter-widgets/base",
      "_view_module_version": "1.2.0",
      "_view_name": "StyleView",
      "description_width": ""
     }
    },
    "e50acb5452e242349916cf8f9bcf83f7": {
     "model_module": "@jupyter-widgets/controls",
     "model_module_version": "1.5.0",
     "model_name": "HTMLModel",
     "state": {
      "_dom_classes": [],
      "_model_module": "@jupyter-widgets/controls",
      "_model_module_version": "1.5.0",
      "_model_name": "HTMLModel",
      "_view_count": null,
      "_view_module": "@jupyter-widgets/controls",
      "_view_module_version": "1.5.0",
      "_view_name": "HTMLView",
      "description": "",
      "description_tooltip": null,
      "layout": "IPY_MODEL_2c02755d651e4d9b94f2da93350111ec",
      "placeholder": "​",
      "style": "IPY_MODEL_2694e7bbe66b4cb4a0b07817add9ede5",
      "value": "\n<b>Pro Tip:</b> If you don't already have one, you can create a dedicated\n'notebooks' token with 'write' access, that you can then easily reuse for all\nnotebooks. </center>"
     }
    },
    "e77ea180595b4568a297aedb8af2b544": {
     "model_module": "@jupyter-widgets/base",
     "model_module_version": "1.2.0",
     "model_name": "LayoutModel",
     "state": {
      "_model_module": "@jupyter-widgets/base",
      "_model_module_version": "1.2.0",
      "_model_name": "LayoutModel",
      "_view_count": null,
      "_view_module": "@jupyter-widgets/base",
      "_view_module_version": "1.2.0",
      "_view_name": "LayoutView",
      "align_content": null,
      "align_items": null,
      "align_self": null,
      "border": null,
      "bottom": null,
      "display": null,
      "flex": null,
      "flex_flow": null,
      "grid_area": null,
      "grid_auto_columns": null,
      "grid_auto_flow": null,
      "grid_auto_rows": null,
      "grid_column": null,
      "grid_gap": null,
      "grid_row": null,
      "grid_template_areas": null,
      "grid_template_columns": null,
      "grid_template_rows": null,
      "height": null,
      "justify_content": null,
      "justify_items": null,
      "left": null,
      "margin": null,
      "max_height": null,
      "max_width": null,
      "min_height": null,
      "min_width": null,
      "object_fit": null,
      "object_position": null,
      "order": null,
      "overflow": null,
      "overflow_x": null,
      "overflow_y": null,
      "padding": null,
      "right": null,
      "top": null,
      "visibility": null,
      "width": null
     }
    },
    "eb533dc5bdde46a7890a3ac32fce2f3d": {
     "model_module": "@jupyter-widgets/base",
     "model_module_version": "1.2.0",
     "model_name": "LayoutModel",
     "state": {
      "_model_module": "@jupyter-widgets/base",
      "_model_module_version": "1.2.0",
      "_model_name": "LayoutModel",
      "_view_count": null,
      "_view_module": "@jupyter-widgets/base",
      "_view_module_version": "1.2.0",
      "_view_name": "LayoutView",
      "align_content": null,
      "align_items": null,
      "align_self": null,
      "border": null,
      "bottom": null,
      "display": null,
      "flex": null,
      "flex_flow": null,
      "grid_area": null,
      "grid_auto_columns": null,
      "grid_auto_flow": null,
      "grid_auto_rows": null,
      "grid_column": null,
      "grid_gap": null,
      "grid_row": null,
      "grid_template_areas": null,
      "grid_template_columns": null,
      "grid_template_rows": null,
      "height": null,
      "justify_content": null,
      "justify_items": null,
      "left": null,
      "margin": null,
      "max_height": null,
      "max_width": null,
      "min_height": null,
      "min_width": null,
      "object_fit": null,
      "object_position": null,
      "order": null,
      "overflow": null,
      "overflow_x": null,
      "overflow_y": null,
      "padding": null,
      "right": null,
      "top": null,
      "visibility": null,
      "width": null
     }
    },
    "f05a94f36bee4079bf6e473184b8a3ec": {
     "model_module": "@jupyter-widgets/controls",
     "model_module_version": "1.5.0",
     "model_name": "DescriptionStyleModel",
     "state": {
      "_model_module": "@jupyter-widgets/controls",
      "_model_module_version": "1.5.0",
      "_model_name": "DescriptionStyleModel",
      "_view_count": null,
      "_view_module": "@jupyter-widgets/base",
      "_view_module_version": "1.2.0",
      "_view_name": "StyleView",
      "description_width": ""
     }
    },
    "f6d3b1083d4a4cf09584567377bdb9dc": {
     "model_module": "@jupyter-widgets/controls",
     "model_module_version": "1.5.0",
     "model_name": "HTMLModel",
     "state": {
      "_dom_classes": [],
      "_model_module": "@jupyter-widgets/controls",
      "_model_module_version": "1.5.0",
      "_model_name": "HTMLModel",
      "_view_count": null,
      "_view_module": "@jupyter-widgets/controls",
      "_view_module_version": "1.5.0",
      "_view_name": "HTMLView",
      "description": "",
      "description_tooltip": null,
      "layout": "IPY_MODEL_a09a45b0c970404d931193ea070d3074",
      "placeholder": "​",
      "style": "IPY_MODEL_8b8630ce3e5849dea7b670375906e930",
      "value": "<center> <img\nsrc=https://huggingface.co/front/assets/huggingface_logo-noborder.svg\nalt='Hugging Face'> <br> Copy a token from <a\nhref=\"https://huggingface.co/settings/tokens\" target=\"_blank\">your Hugging Face\ntokens page</a> and paste it below. <br> Immediately click login after copying\nyour token or it might be stored in plain text in this notebook file. </center>"
     }
    },
    "fdd64eb69f3f4dafb841b8bf6dd1348a": {
     "model_module": "@jupyter-widgets/controls",
     "model_module_version": "1.5.0",
     "model_name": "DescriptionStyleModel",
     "state": {
      "_model_module": "@jupyter-widgets/controls",
      "_model_module_version": "1.5.0",
      "_model_name": "DescriptionStyleModel",
      "_view_count": null,
      "_view_module": "@jupyter-widgets/base",
      "_view_module_version": "1.2.0",
      "_view_name": "StyleView",
      "description_width": ""
     }
    }
   }
  }
 },
 "nbformat": 4,
 "nbformat_minor": 5
}
