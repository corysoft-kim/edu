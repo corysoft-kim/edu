{
  "cells": [
    {
      "cell_type": "markdown",
      "metadata": {
        "id": "x6D5knAtSVGR"
      },
      "source": [
        "# Base setting"
      ]
    },
    {
      "cell_type": "code",
      "execution_count": 1,
      "metadata": {
        "id": "4BGXRkwQSUVR"
      },
      "outputs": [
        {
          "name": "stdout",
          "output_type": "stream",
          "text": [
            "Defaulting to user installation because normal site-packages is not writeable\n"
          ]
        },
        {
          "name": "stderr",
          "output_type": "stream",
          "text": [
            "ERROR: Invalid requirement: '#': Expected package name at the start of dependency specifier\n",
            "    #\n",
            "    ^\n"
          ]
        },
        {
          "name": "stdout",
          "output_type": "stream",
          "text": [
            "Defaulting to user installation because normal site-packages is not writeable\n",
            "Collecting torch-geometric\n",
            "  Downloading torch_geometric-2.6.1-py3-none-any.whl.metadata (63 kB)\n",
            "Requirement already satisfied: aiohttp in c:\\programdata\\miniconda3\\envs\\env_aias_test\\lib\\site-packages (from torch-geometric) (3.11.11)\n",
            "Requirement already satisfied: fsspec in c:\\programdata\\miniconda3\\envs\\env_aias_test\\lib\\site-packages (from torch-geometric) (2024.9.0)\n",
            "Requirement already satisfied: jinja2 in c:\\programdata\\miniconda3\\envs\\env_aias_test\\lib\\site-packages (from torch-geometric) (3.1.4)\n",
            "Requirement already satisfied: numpy in c:\\programdata\\miniconda3\\envs\\env_aias_test\\lib\\site-packages (from torch-geometric) (1.26.4)\n",
            "Requirement already satisfied: psutil>=5.8.0 in c:\\programdata\\miniconda3\\envs\\env_aias_test\\lib\\site-packages (from torch-geometric) (5.9.0)\n",
            "Requirement already satisfied: pyparsing in c:\\programdata\\miniconda3\\envs\\env_aias_test\\lib\\site-packages (from torch-geometric) (3.2.1)\n",
            "Requirement already satisfied: requests in c:\\programdata\\miniconda3\\envs\\env_aias_test\\lib\\site-packages (from torch-geometric) (2.32.3)\n",
            "Requirement already satisfied: tqdm in c:\\programdata\\miniconda3\\envs\\env_aias_test\\lib\\site-packages (from torch-geometric) (4.67.1)\n",
            "Requirement already satisfied: aiohappyeyeballs>=2.3.0 in c:\\programdata\\miniconda3\\envs\\env_aias_test\\lib\\site-packages (from aiohttp->torch-geometric) (2.4.4)\n",
            "Requirement already satisfied: aiosignal>=1.1.2 in c:\\programdata\\miniconda3\\envs\\env_aias_test\\lib\\site-packages (from aiohttp->torch-geometric) (1.3.2)\n",
            "Requirement already satisfied: attrs>=17.3.0 in c:\\programdata\\miniconda3\\envs\\env_aias_test\\lib\\site-packages (from aiohttp->torch-geometric) (24.3.0)\n",
            "Requirement already satisfied: frozenlist>=1.1.1 in c:\\programdata\\miniconda3\\envs\\env_aias_test\\lib\\site-packages (from aiohttp->torch-geometric) (1.5.0)\n",
            "Requirement already satisfied: multidict<7.0,>=4.5 in c:\\programdata\\miniconda3\\envs\\env_aias_test\\lib\\site-packages (from aiohttp->torch-geometric) (6.1.0)\n",
            "Requirement already satisfied: propcache>=0.2.0 in c:\\programdata\\miniconda3\\envs\\env_aias_test\\lib\\site-packages (from aiohttp->torch-geometric) (0.2.0)\n",
            "Requirement already satisfied: yarl<2.0,>=1.17.0 in c:\\programdata\\miniconda3\\envs\\env_aias_test\\lib\\site-packages (from aiohttp->torch-geometric) (1.18.0)\n",
            "Requirement already satisfied: MarkupSafe>=2.0 in c:\\programdata\\miniconda3\\envs\\env_aias_test\\lib\\site-packages (from jinja2->torch-geometric) (2.1.3)\n",
            "Requirement already satisfied: charset-normalizer<4,>=2 in c:\\programdata\\miniconda3\\envs\\env_aias_test\\lib\\site-packages (from requests->torch-geometric) (3.3.2)\n",
            "Requirement already satisfied: idna<4,>=2.5 in c:\\programdata\\miniconda3\\envs\\env_aias_test\\lib\\site-packages (from requests->torch-geometric) (3.7)\n",
            "Requirement already satisfied: urllib3<3,>=1.21.1 in c:\\programdata\\miniconda3\\envs\\env_aias_test\\lib\\site-packages (from requests->torch-geometric) (2.2.3)\n",
            "Requirement already satisfied: certifi>=2017.4.17 in c:\\programdata\\miniconda3\\envs\\env_aias_test\\lib\\site-packages (from requests->torch-geometric) (2025.7.14)\n",
            "Requirement already satisfied: colorama in c:\\programdata\\miniconda3\\envs\\env_aias_test\\lib\\site-packages (from tqdm->torch-geometric) (0.4.6)\n",
            "Downloading torch_geometric-2.6.1-py3-none-any.whl (1.1 MB)\n",
            "   ---------------------------------------- 0.0/1.1 MB ? eta -:--:--\n",
            "   ---------------------------------------- 1.1/1.1 MB 27.3 MB/s eta 0:00:00\n",
            "Installing collected packages: torch-geometric\n",
            "Successfully installed torch-geometric-2.6.1\n"
          ]
        }
      ],
      "source": [
        "!pip install torch # 실습 환경에선 주석처리 가능.\n",
        "!pip install torch-geometric"
      ]
    },
    {
      "cell_type": "code",
      "execution_count": 2,
      "metadata": {
        "id": "zLgmHV4vQaDj"
      },
      "outputs": [],
      "source": [
        "import numpy as np\n",
        "import pandas as pd\n",
        "import torch\n",
        "import torch.nn as nn\n",
        "from torch_geometric.data import download_url, extract_zip\n",
        "\n",
        "from sklearn import model_selection, metrics, preprocessing\n",
        "from sklearn.model_selection import train_test_split\n",
        "from sklearn.metrics import mean_squared_error\n",
        "\n",
        "import random\n",
        "from tqdm.notebook import tqdm\n",
        "import math\n",
        "from collections import defaultdict\n",
        "import matplotlib.pyplot as plt\n",
        "from torch.utils.data import Dataset, DataLoader"
      ]
    },
    {
      "cell_type": "code",
      "execution_count": 4,
      "metadata": {
        "id": "wB2qNOANQYGS"
      },
      "outputs": [
        {
          "name": "stdout",
          "output_type": "stream",
          "text": [
            "100836\n",
            "610\n",
            "9724\n"
          ]
        }
      ],
      "source": [
        "# url = 'https://files.grouplens.org/datasets/movielens/ml-latest-small.zip'\n",
        "# extract_zip(download_url(url, '.'), '.')\n",
        "\n",
        "# ratings_path = './ml-latest-small/ratings.csv' # need to fix\n",
        "ratings_path = 'ml-latest-small/ratings.csv'\n",
        "df = pd.read_csv(ratings_path)\n",
        "\n",
        "print(len(df)) # number of data\n",
        "print(df['userId'].nunique()) # number of users\n",
        "print(df['movieId'].nunique()) # number of movies"
      ]
    },
    {
      "cell_type": "code",
      "execution_count": 5,
      "metadata": {
        "id": "H3BXIuCSTpOX"
      },
      "outputs": [
        {
          "name": "stdout",
          "output_type": "stream",
          "text": [
            "cuda\n"
          ]
        }
      ],
      "source": [
        "# need to fix\n",
        "device = torch.device('cuda' if torch.cuda.is_available() else 'cpu')\n",
        "print(device)"
      ]
    },
    {
      "cell_type": "markdown",
      "metadata": {
        "id": "G7BiWYw7Rori"
      },
      "source": [
        "# Neural Collaborative filtering"
      ]
    },
    {
      "cell_type": "markdown",
      "metadata": {
        "id": "WuKqJ7hfCFYw"
      },
      "source": [
        "## 1. Data_preprocessing"
      ]
    },
    {
      "cell_type": "code",
      "execution_count": 6,
      "metadata": {
        "id": "KQ_cDx-35su-"
      },
      "outputs": [],
      "source": [
        "# Generate Dataloader object (used as input data for model)\n",
        "class MovieLens:\n",
        "  def __init__(self, users, movies, ratings):\n",
        "    self.users = users\n",
        "    self.movies = movies\n",
        "    self.ratings = ratings\n",
        "\n",
        "  def __len__(self):\n",
        "    return len(self.users)\n",
        "\n",
        "  def __getitem__(self,item):\n",
        "    '''\n",
        "    item = randomly selected indexes for (user,item) pairs\n",
        "    '''\n",
        "    users = self.users[item]\n",
        "    movies = self.movies[item]\n",
        "    ratings = self.ratings[item]\n",
        "    return {'users': torch.tensor(users, dtype = torch.long).to(device),\n",
        "            'movies': torch.tensor(movies, dtype = torch.long).to(device),\n",
        "            'ratings': torch.tensor(ratings, dtype=torch.long).to(device)}"
      ]
    },
    {
      "cell_type": "code",
      "execution_count": 7,
      "metadata": {
        "id": "g3qYW4Z59kXR"
      },
      "outputs": [
        {
          "name": "stdout",
          "output_type": "stream",
          "text": [
            "90752\n",
            "10084\n"
          ]
        }
      ],
      "source": [
        "# convert actual index for user and items as consecutive integer\n",
        "lbl_user = preprocessing.LabelEncoder()\n",
        "lbl_movie = preprocessing.LabelEncoder()\n",
        "\n",
        "df.userId = lbl_user.fit_transform(df.userId.values)\n",
        "df.movieId = lbl_movie.fit_transform(df.movieId.values)\n",
        "\n",
        "# devide original dataframe into train, test dataframe (9:1)\n",
        "df_train, df_test = model_selection.train_test_split(df, test_size=0.1, random_state=42, stratify=df.rating.values)\n",
        "\n",
        "train_dataset = MovieLens(users = df_train.userId.values, movies = df_train.movieId.values, ratings = df_train.rating.values)\n",
        "test_dataset = MovieLens(users = df_test.userId.values, movies = df_test.movieId.values, ratings = df_test.rating.values)\n",
        "\n",
        "print(len(train_dataset))\n",
        "print(len(test_dataset))"
      ]
    },
    {
      "cell_type": "markdown",
      "metadata": {
        "id": "TNsApMI8CRsd"
      },
      "source": [
        "## 2. Model setting"
      ]
    },
    {
      "cell_type": "code",
      "execution_count": 8,
      "metadata": {
        "id": "przHl9EB6YOj"
      },
      "outputs": [],
      "source": [
        "### Embedding layer + NCF layer\n",
        "# 2-layer(including output layer)\n",
        "\n",
        "# hidden layer + active layer(RELU) + output\n",
        "# latent vector dim: 32\n",
        "# input dim: 64\n",
        "\n",
        "class Neural_Collaborative_Filtering(nn.Module):\n",
        "  def __init__(self, n_users, n_movies):\n",
        "    '''\n",
        "    n_users = # of users\n",
        "    n_movies = # of movies\n",
        "    '''\n",
        "    super().__init__()\n",
        "    # convert all users and items into 32-dim learnable latent factors(vectors)\n",
        "    self.user_embedding = nn.Embedding(n_users, 32)\n",
        "    self.movie_embedding = nn.Embedding(n_movies, 32)\n",
        "\n",
        "    # Neural network for rating prediction\n",
        "    self.fc1 = nn.Linear(64,32) # 64 = user_i embedding + movie_j embedding\n",
        "    self.relu = nn.ReLU()\n",
        "    self.fc2= nn.Linear(32,1)\n",
        "\n",
        "  def forward(self, users, movies, ratings = None):\n",
        "    user_embedding = self.user_embedding(users)\n",
        "    movie_embedding = self.movie_embedding(movies)\n",
        "    input_embedding = torch.cat([user_embedding, movie_embedding], dim = 1)\n",
        "\n",
        "    hidden_feature = self.fc1(input_embedding)\n",
        "    hidden_feature = self.relu(hidden_feature)\n",
        "\n",
        "    output = self.fc2(hidden_feature) # output is prediction\n",
        "\n",
        "    return output"
      ]
    },
    {
      "cell_type": "markdown",
      "metadata": {
        "id": "tzBZBGjFM280"
      },
      "source": [
        "## 3. Training"
      ]
    },
    {
      "cell_type": "code",
      "execution_count": 9,
      "metadata": {
        "id": "BPE4BRXJC25J"
      },
      "outputs": [],
      "source": [
        "# set batch\n",
        "train_loader = DataLoader(dataset = train_dataset, batch_size=128, shuffle=True, drop_last=False)\n",
        "test_loader = DataLoader(dataset = test_dataset, batch_size=128, shuffle=True, drop_last = False)"
      ]
    },
    {
      "cell_type": "code",
      "execution_count": 10,
      "metadata": {
        "id": "gCzxw4QtDcC7"
      },
      "outputs": [],
      "source": [
        "# model instance generation\n",
        "model = Neural_Collaborative_Filtering(n_users = len(lbl_user.classes_), n_movies = len(lbl_movie.classes_)).to(device)\n",
        "\n",
        "# Optimizer, Objective function\n",
        "optimizer = torch.optim.Adam(model.parameters(), lr = 0.001)\n",
        "loss_func = nn.MSELoss(reduction= 'mean')"
      ]
    },
    {
      "cell_type": "code",
      "execution_count": 11,
      "metadata": {
        "collapsed": true,
        "id": "Q4w-0UPwFVIp"
      },
      "outputs": [
        {
          "name": "stdout",
          "output_type": "stream",
          "text": [
            "epoch 1 - (batch 1) loss : 4.462433815002441\n",
            "epoch 1 - (batch 2) loss : 2.074892520904541\n",
            "epoch 1 - (batch 3) loss : 1.2041988372802734\n",
            "epoch 1 - (batch 4) loss : 1.4329631328582764\n",
            "epoch 1 - (batch 5) loss : 1.3442317247390747\n",
            "epoch 1 - (batch 6) loss : 1.144464373588562\n",
            "epoch 1 - (batch 7) loss : 1.1915597915649414\n",
            "Epoch 1 Avg_loss : 2.4021738596123936\n",
            "epoch 2 - (batch 1) loss : 0.9749795198440552\n",
            "epoch 2 - (batch 2) loss : 0.8154403567314148\n",
            "epoch 2 - (batch 3) loss : 0.7887318730354309\n",
            "epoch 2 - (batch 4) loss : 1.111114501953125\n",
            "epoch 2 - (batch 5) loss : 0.8633134365081787\n",
            "epoch 2 - (batch 6) loss : 0.8488587141036987\n",
            "epoch 2 - (batch 7) loss : 1.043222188949585\n",
            "Epoch 2 Avg_loss : 1.025171792053201\n",
            "epoch 3 - (batch 1) loss : 1.056288242340088\n",
            "epoch 3 - (batch 2) loss : 1.0395622253417969\n",
            "epoch 3 - (batch 3) loss : 1.0311017036437988\n",
            "epoch 3 - (batch 4) loss : 0.818798840045929\n",
            "epoch 3 - (batch 5) loss : 0.8606249690055847\n",
            "epoch 3 - (batch 6) loss : 1.0330653190612793\n",
            "epoch 3 - (batch 7) loss : 0.9680640697479248\n",
            "Epoch 3 Avg_loss : 0.9312318831640171\n",
            "epoch 4 - (batch 1) loss : 0.9290080666542053\n",
            "epoch 4 - (batch 2) loss : 0.757879376411438\n",
            "epoch 4 - (batch 3) loss : 0.7770982980728149\n",
            "epoch 4 - (batch 4) loss : 0.9048057794570923\n",
            "epoch 4 - (batch 5) loss : 1.01273775100708\n",
            "epoch 4 - (batch 6) loss : 0.9354969263076782\n",
            "epoch 4 - (batch 7) loss : 0.759937047958374\n",
            "Epoch 4 Avg_loss : 0.8762904364400252\n",
            "epoch 5 - (batch 1) loss : 0.8600701093673706\n",
            "epoch 5 - (batch 2) loss : 1.0151586532592773\n",
            "epoch 5 - (batch 3) loss : 0.9584324359893799\n",
            "epoch 5 - (batch 4) loss : 0.8635228872299194\n",
            "epoch 5 - (batch 5) loss : 0.9879348278045654\n",
            "epoch 5 - (batch 6) loss : 0.8016754388809204\n",
            "epoch 5 - (batch 7) loss : 0.9225586652755737\n",
            "Epoch 5 Avg_loss : 0.8346671680637407\n",
            "epoch 6 - (batch 1) loss : 0.7278174757957458\n",
            "epoch 6 - (batch 2) loss : 0.792969822883606\n",
            "epoch 6 - (batch 3) loss : 0.8272750377655029\n",
            "epoch 6 - (batch 4) loss : 0.7172781229019165\n",
            "epoch 6 - (batch 5) loss : 0.7925792336463928\n",
            "epoch 6 - (batch 6) loss : 0.8741116523742676\n",
            "epoch 6 - (batch 7) loss : 0.5574049949645996\n",
            "Epoch 6 Avg_loss : 0.7981790426083445\n",
            "epoch 7 - (batch 1) loss : 0.621694803237915\n",
            "epoch 7 - (batch 2) loss : 0.7932335138320923\n",
            "epoch 7 - (batch 3) loss : 0.5469830632209778\n",
            "epoch 7 - (batch 4) loss : 0.8611178398132324\n",
            "epoch 7 - (batch 5) loss : 0.6523748636245728\n",
            "epoch 7 - (batch 6) loss : 0.7226291298866272\n",
            "epoch 7 - (batch 7) loss : 0.7514509558677673\n",
            "Epoch 7 Avg_loss : 0.7671233555157531\n",
            "epoch 8 - (batch 1) loss : 0.650658369064331\n",
            "epoch 8 - (batch 2) loss : 0.5473990440368652\n",
            "epoch 8 - (batch 3) loss : 0.657547652721405\n",
            "epoch 8 - (batch 4) loss : 0.7797715663909912\n",
            "epoch 8 - (batch 5) loss : 0.6642165184020996\n",
            "epoch 8 - (batch 6) loss : 0.7727651596069336\n",
            "epoch 8 - (batch 7) loss : 0.7791064977645874\n",
            "Epoch 8 Avg_loss : 0.7403846199404874\n",
            "epoch 9 - (batch 1) loss : 0.593436598777771\n",
            "epoch 9 - (batch 2) loss : 0.7122738361358643\n",
            "epoch 9 - (batch 3) loss : 0.6059513688087463\n",
            "epoch 9 - (batch 4) loss : 0.7361505031585693\n",
            "epoch 9 - (batch 5) loss : 0.6654202938079834\n",
            "epoch 9 - (batch 6) loss : 0.800640344619751\n",
            "epoch 9 - (batch 7) loss : 0.7067890167236328\n",
            "Epoch 9 Avg_loss : 0.7176305998868094\n",
            "epoch 10 - (batch 1) loss : 0.7596045136451721\n",
            "epoch 10 - (batch 2) loss : 0.6174442768096924\n",
            "epoch 10 - (batch 3) loss : 0.6570842266082764\n",
            "epoch 10 - (batch 4) loss : 0.9295004606246948\n",
            "epoch 10 - (batch 5) loss : 0.5883576273918152\n",
            "epoch 10 - (batch 6) loss : 0.6378654837608337\n",
            "epoch 10 - (batch 7) loss : 0.6548905372619629\n",
            "Epoch 10 Avg_loss : 0.6986795011881545\n"
          ]
        }
      ],
      "source": [
        "epochs = 10\n",
        "total_loss = 0\n",
        "iter_cnt = 0\n",
        "all_losses_list = []\n",
        "\n",
        "model.train()\n",
        "\n",
        "for epoch in range(1, epochs+1):\n",
        "  total_loss = 0\n",
        "  epoch_check = 0\n",
        "  for i, train_data in enumerate(train_loader):\n",
        "    '''\n",
        "    train_data = {'users':[], 'items':[], 'ratings':[]}\n",
        "    '''\n",
        "    batch_size = len(train_data['users'])\n",
        "    prediction = model(train_data['users'], train_data['movies'])\n",
        "    ground_truth = train_data['ratings'].view(batch_size,-1).to(torch.float32)\n",
        "\n",
        "    loss = loss_func(prediction, ground_truth)\n",
        "    total_loss = total_loss + (loss.item() * batch_size)\n",
        "\n",
        "    optimizer.zero_grad()\n",
        "    loss.backward()\n",
        "    optimizer.step()\n",
        "\n",
        "    iter_cnt = iter_cnt + 1\n",
        "    epoch_check += batch_size\n",
        "\n",
        "    if iter_cnt % 100 == 0 and iter_cnt != 0:\n",
        "      avg_iter_loss = loss.item()\n",
        "      batch_num = int((iter_cnt/100) % 7) if int((iter_cnt/100) % 7) else 7\n",
        "      print(f\"epoch {epoch} - (batch {batch_num}) loss : {(avg_iter_loss)}\")\n",
        "\n",
        "\n",
        "    if epoch_check % (batch_size * len(train_loader)) == 0 and epoch_check != 0:\n",
        "      avg_loss = total_loss / epoch_check\n",
        "      print(f\"Epoch {epoch} Avg_loss : {avg_loss}\")\n",
        "      all_losses_list.append(avg_loss)\n"
      ]
    },
    {
      "cell_type": "code",
      "execution_count": 12,
      "metadata": {
        "id": "xehKsp1ZLlm6"
      },
      "outputs": [
        {
          "data": {
            "image/png": "[encoded data removed]",
            "text/plain": [
              "<Figure size 640x480 with 1 Axes>"
            ]
          },
          "metadata": {},
          "output_type": "display_data"
        }
      ],
      "source": [
        "# Show Loss change\n",
        "plt.figure()\n",
        "\n",
        "title_font = {\n",
        "    'fontsize': 16,\n",
        "    'fontweight': 'bold'\n",
        "}\n",
        "\n",
        "plt.title('Loss change',fontdict=title_font)\n",
        "plt.xlabel('Epoch')\n",
        "plt.ylabel('Loss')\n",
        "\n",
        "plt.plot(all_losses_list)\n",
        "plt.show()"
      ]
    },
    {
      "cell_type": "markdown",
      "metadata": {
        "id": "Pyfd2hZKM-J5"
      },
      "source": [
        "## 4. Evaluation"
      ]
    },
    {
      "cell_type": "markdown",
      "metadata": {
        "id": "UK1-0b21cYsa"
      },
      "source": [
        "### RMSE"
      ]
    },
    {
      "cell_type": "code",
      "execution_count": 13,
      "metadata": {
        "id": "OPalxv4TKVuC"
      },
      "outputs": [
        {
          "name": "stdout",
          "output_type": "stream",
          "text": [
            "rms: 0.9398793789625983\n"
          ]
        }
      ],
      "source": [
        "from sklearn.metrics import mean_squared_error\n",
        "\n",
        "model_output_list = []\n",
        "target_rating_list = []\n",
        "\n",
        "model.eval()\n",
        "\n",
        "with torch.no_grad():\n",
        "  for i, batched_data in enumerate(test_loader):\n",
        "    model_output = model(batched_data['users'],batched_data['movies'])\n",
        "    model_output_batch = model_output.cpu().numpy().squeeze(axis=1).tolist()\n",
        "    model_output_list += (model_output_batch)\n",
        "\n",
        "    target_rating = batched_data['ratings']\n",
        "    target_rating_batch = target_rating.cpu().numpy().tolist()\n",
        "    target_rating_list += target_rating_batch\n",
        "\n",
        "mse = mean_squared_error(target_rating_list, model_output_list)\n",
        "rms = np.sqrt(mse)\n",
        "print(f\"rms: {rms}\")"
      ]
    },
    {
      "cell_type": "markdown",
      "metadata": {
        "id": "cjwQHcTJcb-6"
      },
      "source": [
        "### Recall@k & Precision@k"
      ]
    },
    {
      "cell_type": "code",
      "execution_count": 14,
      "metadata": {
        "id": "RkfNe6fINiJf"
      },
      "outputs": [],
      "source": [
        "from collections import defaultdict\n",
        "\n",
        "user_est_true = defaultdict(list)\n",
        "\n",
        "with torch.no_grad():\n",
        "  for i, batched_data in enumerate(test_loader):\n",
        "    users = batched_data['users']\n",
        "    movies = batched_data['movies']\n",
        "    ratings = batched_data['ratings']\n",
        "\n",
        "    model_output = model(batched_data['users'], batched_data[\"movies\"])\n",
        "\n",
        "    for i in range(len(users)):\n",
        "      user_id = users[i].item()\n",
        "      movie_id = movies[i].item()\n",
        "      pred_rating = model_output[i][0].item()\n",
        "      true_rating = ratings[i].item()\n",
        "\n",
        "      user_est_true[user_id].append((pred_rating, true_rating))"
      ]
    },
    {
      "cell_type": "code",
      "execution_count": 15,
      "metadata": {
        "id": "BSfWNw5URxtD"
      },
      "outputs": [],
      "source": [
        "with torch.no_grad():\n",
        "  precisions = dict()\n",
        "  recalls = dict()\n",
        "\n",
        "  # recall@K\n",
        "  k= 10\n",
        "  threshold = 3.5 # relevant item criterion\n",
        "\n",
        "  for user_id, user_ratings in user_est_true.items():\n",
        "    user_ratings.sort(key=lambda x: x[0], reverse =True)\n",
        "\n",
        "    # get the number for real relevant items = denominator of recall@k\n",
        "    n_real_relevant= sum((true_r >= threshold) for (_, true_r) in user_ratings)\n",
        "\n",
        "    # k recommended ratings\n",
        "    recommended_k = user_ratings[:k]\n",
        "\n",
        "    # get the number of recommented item that is actually relevant with real relevant.\n",
        "    n_real_relevant_in_top_k = sum((true_r >= threshold) for (est, true_r) in recommended_k)\n",
        "\n",
        "    # precision@k\n",
        "    precisions[user_id] = n_real_relevant_in_top_k / 10\n",
        "    # recall@k\n",
        "    if n_real_relevant:\n",
        "      recalls[user_id] = n_real_relevant_in_top_k / n_real_relevant\n",
        "\n",
        "    else:\n",
        "      recalls[user_id] = 0\n"
      ]
    },
    {
      "cell_type": "code",
      "execution_count": 16,
      "metadata": {
        "id": "L97FW56wXwKx"
      },
      "outputs": [
        {
          "name": "stdout",
          "output_type": "stream",
          "text": [
            "precision @ 10: 0.4171666666666667\n",
            "recall @ 10 : 0.749242890920852\n"
          ]
        }
      ],
      "source": [
        "# Precision and recall can then be averaged over all users\n",
        "print(f\"precision @ {k}: {sum(prec for prec in precisions.values()) / len(precisions)}\")\n",
        "\n",
        "print(f\"recall @ {k} : {sum(rec for rec in recalls.values()) / len(recalls)}\")"
      ]
    },
    {
      "cell_type": "markdown",
      "metadata": {
        "id": "bENzgIxt6VLF"
      },
      "source": []
    }
  ],
  "metadata": {
    "accelerator": "GPU",
    "colab": {
      "gpuType": "T4",
      "provenance": []
    },
    "kernelspec": {
      "display_name": "env_aias_test",
      "language": "python",
      "name": "python3"
    },
    "language_info": {
      "codemirror_mode": {
        "name": "ipython",
        "version": 3
      },
      "file_extension": ".py",
      "mimetype": "text/x-python",
      "name": "python",
      "nbconvert_exporter": "python",
      "pygments_lexer": "ipython3",
      "version": "3.12.8"
    }
  },
  "nbformat": 4,
  "nbformat_minor": 0
}
